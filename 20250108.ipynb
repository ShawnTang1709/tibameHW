{
  "nbformat": 4,
  "nbformat_minor": 0,
  "metadata": {
    "colab": {
      "provenance": [],
      "authorship_tag": "ABX9TyNbniy2VZL/mKKOgnp4ysRZ",
      "include_colab_link": true
    },
    "kernelspec": {
      "name": "python3",
      "display_name": "Python 3"
    },
    "language_info": {
      "name": "python"
    }
  },
  "cells": [
    {
      "cell_type": "markdown",
      "metadata": {
        "id": "view-in-github",
        "colab_type": "text"
      },
      "source": [
        "<a href=\"https://colab.research.google.com/github/ShawnTang1709/tibameHW/blob/main/20250108.ipynb\" target=\"_parent\"><img src=\"https://colab.research.google.com/assets/colab-badge.svg\" alt=\"Open In Colab\"/></a>"
      ]
    },
    {
      "cell_type": "markdown",
      "source": [
        "HTML格式\n",
        "```python\n",
        "長方形的區塊構成，一個包含一個\n",
        "<a href=\"網址\"> -> Start\n",
        "\n",
        "</a> -> end\n",
        "\n",
        "1.名字: 決定它的功能\n",
        "  !!!開始結束都寫一遍\n",
        "   a: 超連結\n",
        "   img/video: 圖片/影片\n",
        "2.屬性: 決定這個特別區塊的細微屬性\n",
        "  !!!寫在開頭的位置\n",
        "  !!!屬性名=\"value\"\n",
        "  a href=\"網址\"\n",
        "  img/vdieo src=\"網址\"\n",
        "3.內容: 顯示文字\n",
        "  !!!寫在開始與結束之間\n",
        "\n",
        "```"
      ],
      "metadata": {
        "id": "r4rMNl8E0SoA"
      }
    },
    {
      "cell_type": "markdown",
      "source": [
        "網頁構成\n",
        "```python\n",
        "網頁由三個東西構成(網頁前端):\n",
        "1.內容(main): HTML\n",
        "2.排版: CSS\n",
        "3.動態: JavaScript語法\n",
        "\n",
        "CSS語法: 選到你要的排版區塊，加上排版\n",
        "1.利用區塊的名字:\n",
        "a{\n",
        "  名:值\n",
        "  class\n",
        "}\n",
        "!!!大部分時間我不是要選所有的超連結\n",
        "!!!以介紹過的HTML是分部出特定的超連結\n",
        "!!!因此會特別在HTML區塊上加上特別屬性\n",
        "!!!特別的屬性是為了排版而生，以便區分這些區塊\n",
        "!!!兩個特別的屬性:class、id\n",
        "\n",
        "2.利用分類(class)屬性\n",
        "(e.g. class=\"good bad\")\n",
        ".good{\n",
        "}\n",
        "\n",
        "3.針對id屬性\n",
        "(e.g id=\"abc\")\n",
        "\n",
        "a{\n",
        "  background-color: red;\n",
        "}\n",
        "\n",
        ".js-thumbnail-img{\n",
        "  border-radius:50px(or 50%)\n",
        "}\n",
        "\n",
        "```"
      ],
      "metadata": {
        "id": "-NY4WqYs4v1f"
      }
    },
    {
      "cell_type": "code",
      "execution_count": null,
      "metadata": {
        "colab": {
          "base_uri": "https://localhost:8080/"
        },
        "id": "0lcBdfhHyYi6",
        "outputId": "b54f66f3-43c8-4033-872d-4ce2034adf87"
      },
      "outputs": [
        {
          "output_type": "stream",
          "name": "stdout",
          "text": [
            "<a class=\"list-rst__rst-name-target cpy-rst-name\" data-list-dest=\"item_top\" href=\"https://tabelog.com/tw/nara/A2901/A290101/29012623/\" rel=\"noopener\" target=\"_blank\">Chinese Sai Naramachi Kuko</a>\n",
            "https://tabelog.com/tw/nara/A2901/A290101/29012623/\n",
            "Chinese Sai Naramachi Kuko\n"
          ]
        }
      ],
      "source": [
        "import urllib.request as req\n",
        "import bs4 as bs\n",
        "\n",
        "url = \"https://tabelog.com/tw/nara/rstLst/1/?SrtT=rt\"\n",
        "response = req.urlopen(url)\n",
        "html = bs.BeautifulSoup(response)\n",
        "#區塊型態:兩個專屬功能(find:找第一個 / find_all:找所有)\n",
        "#參數1:html名字 參數2: 篩選條件\n",
        "link = html.find(\"a\", {\"class\":\"list-rst__rst-name-target\"})\n",
        "print(link)\n",
        "#找到想要區塊後萃取\n",
        "#1.特殊屬性(字典): link[\"href\"]\n",
        "#2.內容(專屬值): link.text\n",
        "#程式語言的基本概念: 一個型態可以擁有兩種功能\n",
        "#a.專屬功能: 型態.功能() -> 人.吃飯(1hour)\n",
        "#b.專屬值: 型態.值 -> 人.姓名\n",
        "print(link[\"href\"])\n",
        "print(link.text)"
      ]
    },
    {
      "cell_type": "code",
      "source": [
        "import urllib.request as req\n",
        "import bs4 as bs\n",
        "\n",
        "url = \"https://tabelog.com/tw/nara/rstLst/1/?SrtT=rt\"\n",
        "response = req.urlopen(url)\n",
        "html = bs.BeautifulSoup(response)\n",
        "\n",
        "#find_all:型態是類似list的bs4型態\n",
        "r_list = html.find_all(\"div\",{\"class\":\"list-rst__body\"})\n",
        "for r in r_list:\n",
        "  en_name = r.find(\"a\", {\"class\":\"list-rst__rst-name-target\"})\n",
        "  en_name_href = en_name[\"href\"]\n",
        "  en_name_text = en_name.text\n",
        "  print(en_name_text)\n",
        "  print(en_name_href)\n",
        "  print(\"-\" * 30)\n",
        "# link_list = html.find_all(\"a\", {\"class\":\"list-rst__rst-name-target\"})\n",
        "# for link in link_list:\n",
        "#   print(link[\"href\"])\n",
        "#   print(link.text)\n",
        "#   print(\"-\" * 30)"
      ],
      "metadata": {
        "id": "Z-vb6lmRiGyj"
      },
      "execution_count": null,
      "outputs": []
    },
    {
      "cell_type": "code",
      "source": [
        "result = html.find(\"div\",{\"class\":\"list-rst__body\"})\n",
        "if result == None:\n",
        "  print(\"!!!\")\n",
        "else:\n",
        "  print(\"XXX\")"
      ],
      "metadata": {
        "id": "kZjychT_k53T"
      },
      "execution_count": null,
      "outputs": []
    },
    {
      "cell_type": "code",
      "source": [
        "for i in range(2):\n",
        "  print(\"頁數\", i+1)\n",
        "  url = (\"https://tabelog.com/tw/nara/rstLst/{}/?SrtT=rt\").format(i+1)\n",
        "  response = req.urlopen(url)\n",
        "  html = bs.BeautifulSoup(response)\n",
        "\n",
        "  r_list = html.find_all(\"div\",{\"class\":\"list-rst__contents\"})\n",
        "  for r in r_list:\n",
        "    area_name = r.find(\"a\", {\"class\":\"list-rst__rst-name-target\"})\n",
        "    area_href = area_name[\"href\"]\n",
        "    area_name_text = area_name.text\n",
        "\n",
        "    area_genre = r.find(\"div\",{\"class\":\"list-rst__area-genre\"})\n",
        "    area_info = r.find(\"p\",{\"class\":\"cpy-pr-title\"})\n",
        "    area_price = r.find_all(\"span\",{\"class\":\"c-rating-v3__val\"})\n",
        "    if area_info == None:\n",
        "      area_info = \"無\"\n",
        "    else:\n",
        "      area_info = area_info.text.strip()\n",
        "\n",
        "    area_price_dinner = area_price[0].text\n",
        "    area_price_lunch = area_price[1].text\n",
        "    area_dayoff = r.find(\"span\",{\"class\":\"list-rst__holiday-text\"})\n",
        "    area_rate = r.find(\"span\",{\"class\":\"c-rating__val\"})\n",
        "    print(area_name_text)\n",
        "    print(area_href)\n",
        "    print(\"地點/料理樣式:\", area_genre.text.strip())\n",
        "    print(\"簡介:\", area_info)\n",
        "    print(\"評分:\", area_rate.text)\n",
        "    print(\"Dinner Price:\", area_price_dinner)\n",
        "    print(\"Lunch Price:\", area_price_lunch)\n",
        "    print(\"公休日期:\", area_dayoff.text)\n",
        "    print(\"-\" * 30)"
      ],
      "metadata": {
        "id": "LYLnUA04mVNb"
      },
      "execution_count": null,
      "outputs": []
    },
    {
      "cell_type": "markdown",
      "source": [
        "#專屬功能\n",
        "```python\n",
        "型態.功能()\n",
        "\n",
        "```"
      ],
      "metadata": {
        "id": "VpwPOp8X0Jz2"
      }
    },
    {
      "cell_type": "code",
      "source": [
        "s = \"hello\" * 5\n",
        "b = s.replace(\"hello\", \"bye\", 2)\n",
        "print(b)\n",
        "s = s.replace(\"h\", \"z\")\n",
        "print(s)"
      ],
      "metadata": {
        "colab": {
          "base_uri": "https://localhost:8080/"
        },
        "id": "w4V_WTzOz5F2",
        "outputId": "7fb27f7a-af32-4d69-9c9e-0e8ba07287fc"
      },
      "execution_count": null,
      "outputs": [
        {
          "output_type": "stream",
          "name": "stdout",
          "text": [
            "byebyehellohellohello\n"
          ]
        }
      ]
    },
    {
      "cell_type": "code",
      "source": [
        "b = \"2025-01-08\".split(\"-\")\n",
        "print(b)\n",
        "print(\"/\".join(b))"
      ],
      "metadata": {
        "colab": {
          "base_uri": "https://localhost:8080/"
        },
        "id": "oxJOTX5M071X",
        "outputId": "7ca55b95-1d63-4ef5-e38d-5ed1f72861e8"
      },
      "execution_count": null,
      "outputs": [
        {
          "output_type": "stream",
          "name": "stdout",
          "text": [
            "['2025', '01', '08']\n",
            "2025/01/08\n"
          ]
        }
      ]
    },
    {
      "cell_type": "code",
      "source": [
        "#list的專屬功能(例外)\n",
        "#須符合直覺，如不改原本清單變成兩份\n",
        "#顛覆1: 以前:=才會真的改值 現在:直接改\n",
        "#顛覆2: 以前:有些功能沒有回傳值(e.g. print) 現在:任何功能都會回傳值，只是有些功能回傳了None值\n",
        "scores = [20, 30]\n",
        "scores.append(99)\n",
        "print(scores)\n",
        "\n",
        "#錯誤1: 印出整個操作化成的值\n",
        "#有執行，但沒有實際值\n",
        "#print(scores.append(777))\n",
        "#錯誤2: 致命錯誤 ，相當於socres = None\n",
        "#socres = scores.append(777)\n",
        "#正確做法:\n",
        "scores = scores.append(777)\n",
        "print(scores)"
      ],
      "metadata": {
        "id": "bfnYVsol2NJ-"
      },
      "execution_count": null,
      "outputs": []
    },
    {
      "cell_type": "markdown",
      "source": [
        "型態複習:\n",
        "```python\n",
        "1.基礎型態: 數字/字串/布林/無\n",
        "2.複雜型態: list/dict\n",
        "\n",
        "```"
      ],
      "metadata": {
        "id": "MilxNgyi3uFv"
      }
    },
    {
      "cell_type": "markdown",
      "source": [
        "功能SOP:\n",
        "```python\n",
        "!!! 大部分(str...)功能: 不改， 回傳新的\n",
        "b = s.replace\n",
        "s: old str\n",
        "b = new str\n",
        "\n",
        "!!! 少數(list...)功能: 直接改, 回傳None\n",
        "b = l.append\n",
        "l: new list\n",
        "b: None\n",
        "\n",
        "正確寫法:\n",
        "l.append(200)\n",
        "下一步再開始做\n",
        "\n",
        "用直覺分\n",
        "!!!當遇到 NoneType is ...\n",
        "!!!要馬上反應是少數的那種案例\n",
        "```"
      ],
      "metadata": {
        "id": "zhrNrY_J5VfX"
      }
    }
  ]
}