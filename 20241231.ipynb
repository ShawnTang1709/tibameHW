{
  "nbformat": 4,
  "nbformat_minor": 0,
  "metadata": {
    "colab": {
      "provenance": [],
      "authorship_tag": "ABX9TyNlpMFLj+lHcLkzdJD4Cwh8",
      "include_colab_link": true
    },
    "kernelspec": {
      "name": "python3",
      "display_name": "Python 3"
    },
    "language_info": {
      "name": "python"
    }
  },
  "cells": [
    {
      "cell_type": "markdown",
      "metadata": {
        "id": "view-in-github",
        "colab_type": "text"
      },
      "source": [
        "<a href=\"https://colab.research.google.com/github/ShawnTang1709/tibameHW/blob/main/20241231.ipynb\" target=\"_parent\"><img src=\"https://colab.research.google.com/assets/colab-badge.svg\" alt=\"Open In Colab\"/></a>"
      ]
    },
    {
      "cell_type": "code",
      "execution_count": null,
      "metadata": {
        "id": "d_DMu1oDUG83"
      },
      "outputs": [],
      "source": [
        "#條件式迴圈\n",
        "import random\n",
        "\n",
        "#隨機整數: -1:輸 0:平手 1:贏\n",
        "\n",
        "trans = [\"輸(L)\", \"平手(E)\", \"贏(W)\"]\n",
        "\n",
        "win, even, lose = 0, 0, 0\n",
        "while win < 3:\n",
        "  result = random.randint(-1, 1)\n",
        "  if result == 1:\n",
        "    lose += 1\n",
        "  elif result == 0:\n",
        "    even += 1\n",
        "  else:\n",
        "    win += 1\n",
        "  print(trans[result + 1])\n",
        "print(\"遊戲結束\")"
      ]
    },
    {
      "cell_type": "code",
      "source": [
        "#布林值\n"
      ],
      "metadata": {
        "id": "yaMgajAsVWnV"
      },
      "execution_count": null,
      "outputs": []
    }
  ]
}