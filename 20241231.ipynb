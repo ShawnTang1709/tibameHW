{
  "nbformat": 4,
  "nbformat_minor": 0,
  "metadata": {
    "colab": {
      "provenance": [],
      "authorship_tag": "ABX9TyOSyPhiRmJmqsGogduoqadc",
      "include_colab_link": true
    },
    "kernelspec": {
      "name": "python3",
      "display_name": "Python 3"
    },
    "language_info": {
      "name": "python"
    }
  },
  "cells": [
    {
      "cell_type": "markdown",
      "metadata": {
        "id": "view-in-github",
        "colab_type": "text"
      },
      "source": [
        "<a href=\"https://colab.research.google.com/github/ShawnTang1709/tibameHW/blob/main/20241231.ipynb\" target=\"_parent\"><img src=\"https://colab.research.google.com/assets/colab-badge.svg\" alt=\"Open In Colab\"/></a>"
      ]
    },
    {
      "cell_type": "code",
      "execution_count": 3,
      "metadata": {
        "colab": {
          "base_uri": "https://localhost:8080/"
        },
        "id": "d_DMu1oDUG83",
        "outputId": "a8938dee-a180-48e7-d1b3-3d3b7a0b215d"
      },
      "outputs": [
        {
          "output_type": "stream",
          "name": "stdout",
          "text": [
            "平手(E)\n",
            "贏(W)\n",
            "輸(L)\n",
            "平手(E)\n",
            "贏(W)\n",
            "平手(E)\n",
            "平手(E)\n",
            "輸(L)\n",
            "平手(E)\n",
            "贏(W)\n",
            "輸(L)\n",
            "YOU LOSE\n"
          ]
        }
      ],
      "source": [
        "#條件式迴圈\n",
        "import random\n",
        "\n",
        "#隨機整數: -1:輸 0:平手 1:贏\n",
        "\n",
        "trans = [\"輸(L)\", \"平手(E)\", \"贏(W)\"]\n",
        "\n",
        "win, even, lose = 0, 0, 0\n",
        "while win < 3 or lose < 3:\n",
        "  result = random.randint(-1, 1)\n",
        "  if result == 1:\n",
        "    lose += 1\n",
        "  elif result == 0:\n",
        "    even += 1\n",
        "  else:\n",
        "    win += 1\n",
        "  print(trans[result + 1])\n",
        "if win > lose:\n",
        "  print(\"YOU WIN\")\n",
        "else:\n",
        "  print(\"YOU LOSE\")"
      ]
    },
    {
      "cell_type": "code",
      "source": [
        "#布林值\n",
        "import random\n",
        "\n",
        "#隨機整數: -1:輸 0:平手 1:贏\n",
        "trans = [\"輸(L)\", \"平手(E)\", \"贏(W)\"]\n",
        "win, even, lose = 0, 0, 0\n",
        "\n",
        "while True:\n",
        "  result = random.randint(-1, 1)\n",
        "  if result == 1:\n",
        "    lose += 1\n",
        "  elif result == 0:\n",
        "    even += 1\n",
        "  else:\n",
        "    win += 1\n",
        "  print(trans[result + 1])\n",
        "  #判斷\n",
        "  if win >= 3:\n",
        "    print(\"YOU WIN\")\n",
        "    break\n",
        "  elif lose >= 3:\n",
        "    print(\"YOU LOSE\")\n",
        "    break\n",
        "\n"
      ],
      "metadata": {
        "colab": {
          "base_uri": "https://localhost:8080/"
        },
        "id": "yaMgajAsVWnV",
        "outputId": "a14c8063-7309-4540-b986-4cee78bc2c42"
      },
      "execution_count": 5,
      "outputs": [
        {
          "output_type": "stream",
          "name": "stdout",
          "text": [
            "YOU LOSE\n"
          ]
        }
      ]
    },
    {
      "cell_type": "code",
      "source": [
        "a, b = 50, 7\n",
        "ans = str(a // b) + \".\"\n",
        "a = a % b\n",
        "\n",
        "i = 0\n",
        "while i < 10:\n",
        "  a10 = a * 10\n",
        "  ans = ans + str(a10 // b)\n",
        "  print(ans)\n",
        "  a = a10 % b\n",
        "  if a == 0:\n",
        "    break\n",
        "  i +=1"
      ],
      "metadata": {
        "colab": {
          "base_uri": "https://localhost:8080/"
        },
        "id": "yWUYARgJhSFD",
        "outputId": "b0ab5174-e0dc-4666-9bad-6b708b164cb3"
      },
      "execution_count": 13,
      "outputs": [
        {
          "output_type": "stream",
          "name": "stdout",
          "text": [
            "7.1\n",
            "7.14\n",
            "7.142\n",
            "7.1428\n",
            "7.14285\n",
            "7.142857\n",
            "7.1428571\n",
            "7.14285714\n",
            "7.142857142\n",
            "7.1428571428\n"
          ]
        }
      ]
    },
    {
      "cell_type": "code",
      "source": [
        "#完全平方日\n",
        "def is_leep_year(year):\n",
        "  if year % 400 == 0:\n",
        "    return True\n",
        "  elif year % 100 == 0:\n",
        "    pass\n",
        "  elif year % 4 == 0:\n",
        "    return True\n",
        "  else:\n",
        "    return False\n",
        "\n",
        "def is_vaild_date(n):\n",
        "  year = n // 10000\n",
        "  last4 = n % 10000\n",
        "  month = last4 // 100\n",
        "  day = last4 % 100\n",
        "  max_day = [31, 28, 31, 30, 31, 30, 31, 31, 30, 31, 30, 31]\n",
        "  if 1 <= month <= 12:\n",
        "      month_day = max_day[month - 1]\n",
        "      #考慮閏年\n",
        "      if month == 2 and is_leep_year(year) == True:\n",
        "        month_day =+ 1\n",
        "\n",
        "      if 1 <= day <= month_day:\n",
        "        #print(\"合理的日期\")\n",
        "        return True\n",
        "      else:\n",
        "        #print(\"不合理日期(天)\")\n",
        "        return False\n",
        "  else:\n",
        "    #print(\"不合理的日期(月)\")\n",
        "    return False\n",
        "# print(is_vaild_date(20230523))\n",
        "start = 4500\n",
        "count = 0\n",
        "while count <= 10:\n",
        "  result = int(start ** 2)\n",
        "  if is_vaild_date(result) == True:\n",
        "    print(start, result, \"是完全平方日\")\n",
        "    count += 1\n",
        "  start += 1\n",
        "  if count == 10:\n",
        "    break\n"
      ],
      "metadata": {
        "colab": {
          "base_uri": "https://localhost:8080/"
        },
        "id": "SkXOlWk_mqJ7",
        "outputId": "fdb32f5a-a88e-4995-abc3-e01ad69e0622"
      },
      "execution_count": 26,
      "outputs": [
        {
          "output_type": "stream",
          "name": "stdout",
          "text": [
            "4552 20720704 是完全平方日\n",
            "4575 20930625 是完全平方日\n",
            "4599 21150801 是完全平方日\n",
            "4625 21390625 是完全平方日\n",
            "4639 21520321 是完全平方日\n",
            "4652 21641104 是完全平方日\n",
            "4653 21650409 是完全平方日\n",
            "4668 21790224 是完全平方日\n",
            "4682 21921124 是完全平方日\n",
            "4698 22071204 是完全平方日\n"
          ]
        }
      ]
    },
    {
      "cell_type": "code",
      "source": [
        "#自訂功能"
      ],
      "metadata": {
        "id": "IPD5HjJ5QbVq"
      },
      "execution_count": null,
      "outputs": []
    }
  ]
}