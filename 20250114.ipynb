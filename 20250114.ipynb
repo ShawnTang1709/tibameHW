{
  "cells": [
    {
      "cell_type": "markdown",
      "metadata": {
        "id": "view-in-github",
        "colab_type": "text"
      },
      "source": [
        "<a href=\"https://colab.research.google.com/github/ShawnTang1709/tibameHW/blob/main/20250114.ipynb\" target=\"_parent\"><img src=\"https://colab.research.google.com/assets/colab-badge.svg\" alt=\"Open In Colab\"/></a>"
      ]
    },
    {
      "cell_type": "markdown",
      "metadata": {
        "id": "3avtFyYFWU3L"
      },
      "source": [
        "#HTTP代碼\n",
        "```python\n",
        "2開頭: 成功\n",
        "3開頭: 轉址\n",
        "#要求網址已經搬家，雖輸入舊網址，但會自動替換成新網址\n",
        "4開頭: 錯誤\n",
        "404: Not Found(最常見:錯誤的網址)\n",
        "403: Forbidden\n",
        "-原因1:IP位置被BAN (ip ban)\n",
        "   (通常因為有數次的惡意行為(短時間太多請求...)\n",
        "   (解法:等待/換ip)\n",
        "-原因2:行為模式不像瀏覽器\n",
        "   (解法:學得像一點(headers完善))\n",
        "```"
      ]
    },
    {
      "cell_type": "markdown",
      "metadata": {
        "id": "Mmmz3eyXYPoD"
      },
      "source": [
        "#Header\n",
        "```python\n",
        "介紹:\n",
        "在送出網址時，其實不只送出網址，真正送出的是:網址+額外訊息(url + headers)。\n",
        "在得到回應時，其實不只得到回應，真正得到的是:回應+額外訊息(response + headers)\n",
        "\n",
        "```"
      ]
    },
    {
      "cell_type": "markdown",
      "source": [
        "#處理檔案\n",
        "```python\n",
        "1.純文字(txt/csv): open(....,\"r\"or\"w\", encoding=\"utf-8\")\n",
        "2.非純文字(圖片/pdf/doc...): open(..., \"rb\"or\"wb\")\n",
        "```"
      ],
      "metadata": {
        "id": "W4gXleC_jYJp"
      }
    },
    {
      "cell_type": "code",
      "execution_count": 10,
      "metadata": {
        "id": "Hn635MGZVjGJ"
      },
      "outputs": [],
      "source": [
        "import urllib.request as req\n",
        "import bs4 as bs\n",
        "import os\n",
        "\n",
        "url = \"https://www.ptt.cc/bbs/Beauty/M.1736653956.A.DCC.html\"\n",
        "r = req.Request(url)\n",
        "r.add_header(\"User-Agent\", \"Mozilla/5.0 (Windows NT 10.0; Win64; x64) AppleWebKit/537.36 (KHTML, like Gecko) Chrome/131.0.0.0 Safari/537.36\")\n",
        "\n",
        "#創建資料夾\n",
        "filename = \"pic\" + \".json\"\n",
        "dirname = \"pic\"\n",
        "if not os.path.exists(filename):\n",
        "  os.makedirs(filename)\n",
        "\n",
        "response = req.urlopen(r)\n",
        "html = bs.BeautifulSoup(response)\n",
        "\n",
        "allow_subname = [\"jpg\", \"jpeg\", \"png\", \"gif\"]\n",
        "links = html.find_all(\"a\")\n",
        "for l in links:\n",
        "  href = l[\"href\"]\n",
        "  subname = href.split(\".\")[-1]\n",
        "  if subname.lower() in allow_subname:\n",
        "    r = req.Request(href)\n",
        "    r.add_header(\"User-Agent\", \"Mozilla/5.0 (Windows NT 10.0; Win64; x64) AppleWebKit/537.36 (KHTML, like Gecko) Chrome/131.0.0.0 Safari/537.36\")\n",
        "    img = req.urlopen(r)\n",
        "    #open一個檔案來儲存\n",
        "    fname = href.split(\"/\")[-1]\n",
        "    f = open(fname, \"wb\")\n",
        "    f.write(img.read())\n",
        "    f.close\n",
        "    # print(img.read())\n",
        "    # print(\"-\" * 30)"
      ]
    },
    {
      "cell_type": "code",
      "source": [
        "import urllib.request as req\n",
        "import bs4 as bs\n",
        "import os\n",
        "import json\n",
        "\n",
        "url = \"https://www.ptt.cc/bbs/Beauty/M.1736653956.A.DCC.html\"\n",
        "#建立檔案的檔案名稱\n",
        "url_split = url.split( \"/\")\n",
        "fn = url_split[-1] + \".json\"\n",
        "dirname = url_split[-2]\n",
        "#如果資料夾不存在，則創建資料夾\n",
        "if not os.path.exists(dirname):\n",
        "  os.makedirs(dirname)\n",
        "fpath = dirname + \"/\" + fn\n",
        "\n",
        "#取得網址\n",
        "r = req.Request(url)\n",
        "r.add_header(\"User-Agent\", \"Mozilla/5.0 (Windows NT 10.0; Win64; x64) AppleWebKit/537.36 (KHTML, like Gecko) Chrome/131.0.0.0 Safari/537.36\")\n",
        "response = req.urlopen(r)\n",
        "html = bs.BeautifulSoup(response)\n",
        "info = html.find_all(\"span\", {\"class\":\"article-meta-value\"})\n",
        "\n",
        "#找到名字/暱稱\n",
        "name = info[0].text\n",
        "if \"(\" in name:\n",
        "  id = name.split(\"(\")\n",
        "  name = id[0].strip()\n",
        "  nickname = id[-1].replace(\")\", \"\")\n",
        "else:\n",
        "  nickname = \"\"\n",
        "#看板\n",
        "board = info[1].text\n",
        "#找到標題\n",
        "title = info[2].text\n",
        "#找到分類\n",
        "if title[0] == \"[\":\n",
        "  title_split = title.split(\"]\")\n",
        "  category = title_split[0].replace(\"[\", \"\")\n",
        "  title = title_split[-1].strip()\n",
        "else:\n",
        "  category = \"\"\n",
        "#找到時間\n",
        "time = info[3].text\n",
        "# #看板\n",
        "# block = html.find(\"a\", {\"class\":\"board\"}).text\n",
        "\n",
        "# print(\"作者:\", name)\n",
        "# print(\"暱稱:\", nickname)\n",
        "# print(\"看板:\", board)\n",
        "# print(\"分類:\", category)\n",
        "# print(\"標題:\", title)\n",
        "# print(\"時間:\", time)\n",
        "data = {\n",
        "    \"id\": name,\n",
        "    \"nickname\": nickname,\n",
        "    \"board\": board,\n",
        "    \"category\": category,\n",
        "    \"title\": title,\n",
        "    \"time\": time,\n",
        "    \"push\": []\n",
        "}\n",
        "#推噓文(使用Json存檔)\n",
        "push_list = html.find_all(\"div\", {\"class\":\"push\"})\n",
        "for push in push_list:\n",
        "  push_meta = push.find_all(\"span\")\n",
        "  push_type = push_meta[0].text.strip()\n",
        "  push_name = push_meta[1].text.strip()\n",
        "  push_content = push_meta[2].text.replace(\":\", \"\").strip()\n",
        "  push_ip_date = push_meta[3].text.strip()\n",
        "  (push_type, push_name, push_content, push_ip_date)\n",
        "  push_data = {\n",
        "      \"type\": push_type,\n",
        "      \"push_id\": push_name,\n",
        "      \"content\": push_content,\n",
        "      \"ip_date\": push_ip_date\n",
        "      }\n",
        "  data[\"push\"].append(push_data)\n",
        "  # print(push_data)\n",
        "  #把json寫入檔案裡\n",
        "  f = open(fpath, \"w\", encoding=\"utf-8\")\n",
        "  #之前是使用f.write，現在使用json.dump幫我做更好的寫入\n",
        "  json.dump(data, f, ensure_ascii = False, indent=4)\n"
      ],
      "metadata": {
        "id": "ZjZD2Z1vrvtO"
      },
      "execution_count": 40,
      "outputs": []
    }
  ],
  "metadata": {
    "colab": {
      "provenance": [],
      "authorship_tag": "ABX9TyMgNtkocYeecbT4t02VpXQ0",
      "include_colab_link": true
    },
    "kernelspec": {
      "display_name": "Python 3",
      "name": "python3"
    },
    "language_info": {
      "name": "python"
    }
  },
  "nbformat": 4,
  "nbformat_minor": 0
}