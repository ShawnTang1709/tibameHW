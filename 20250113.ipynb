{
  "nbformat": 4,
  "nbformat_minor": 0,
  "metadata": {
    "colab": {
      "provenance": [],
      "authorship_tag": "ABX9TyOz4j+ALl+0eNTe3Tt8a8IF",
      "include_colab_link": true
    },
    "kernelspec": {
      "name": "python3",
      "display_name": "Python 3"
    },
    "language_info": {
      "name": "python"
    }
  },
  "cells": [
    {
      "cell_type": "markdown",
      "metadata": {
        "id": "view-in-github",
        "colab_type": "text"
      },
      "source": [
        "<a href=\"https://colab.research.google.com/github/ShawnTang1709/tibameHW/blob/main/20250113.ipynb\" target=\"_parent\"><img src=\"https://colab.research.google.com/assets/colab-badge.svg\" alt=\"Open In Colab\"/></a>"
      ]
    },
    {
      "cell_type": "code",
      "execution_count": null,
      "metadata": {
        "id": "ENCKNgkpP9Hl"
      },
      "outputs": [],
      "source": [
        "import urllib.request as req\n",
        "import bs4 as bs\n",
        "# Step0.\n",
        "import pandas as pd\n",
        "\n",
        "\n",
        "\n",
        "# Step1.\n",
        "table = []\n",
        "\n",
        "page = 60\n",
        "for i in range(page):\n",
        "  print(\"頁數\", i+1)\n",
        "  url = (\"https://tabelog.com/tw/nara/rstLst/{}/?SrtT=rt\").format(i+1)\n",
        "  response = req.urlopen(url)\n",
        "  html = bs.BeautifulSoup(response)\n",
        "  r_list = html.find_all(\"div\",{\"class\":\"list-rst__contents\"})\n",
        "\n",
        "  for r in r_list:\n",
        "    area_name = r.find(\"a\", {\"class\":\"list-rst__rst-name-target\"})\n",
        "    area_href = area_name[\"href\"]\n",
        "    area_name_text = area_name.text\n",
        "\n",
        "    area_genre = r.find(\"div\",{\"class\":\"list-rst__area-genre\"})\n",
        "    area_info = r.find(\"p\",{\"class\":\"cpy-pr-title\"})\n",
        "    area_price = r.find_all(\"span\",{\"class\":\"c-rating-v3__val\"})\n",
        "    if area_info == None:\n",
        "      area_info = \"無\"\n",
        "    else:\n",
        "      area_info = area_info.text.strip()\n",
        "\n",
        "    area_price_dinner = area_price[0].text\n",
        "    area_price_lunch = area_price[1].text\n",
        "    area_dayoff = r.find(\"span\",{\"class\":\"list-rst__holiday-text\"})\n",
        "    area_rate = r.find(\"span\",{\"class\":\"c-rating__val\"})\n",
        "    print(area_name_text)\n",
        "    print(area_href)\n",
        "    print(\"地點/料理樣式:\", area_genre.text.strip())\n",
        "    print(\"簡介:\", area_info)\n",
        "    print(\"評分:\", area_rate.text)\n",
        "    print(\"Dinner Price:\", area_price_dinner)\n",
        "    print(\"Lunch Price:\", area_price_lunch)\n",
        "    print(\"公休日期:\", area_dayoff.text)\n",
        "    print(\"-\" * 30)\n",
        "\n",
        "    # Step2. 每一筆資料就是一個字典\n",
        "    data = {\n",
        "        \"name(en)\": area_name_text,\n",
        "        \"url\": area_href,\n",
        "        \"genre\": area_genre.text.strip(),\n",
        "        \"intro\": area_info,\n",
        "        \"rating\": area_rate.text,\n",
        "        \"dinner_price\": area_price_dinner,\n",
        "        \"lunch_price\": area_price_lunch,\n",
        "        \"dayoff\": area_dayoff.text\n",
        "    }\n",
        "    table.append(data)\n",
        "# Step3. 轉成DataFrame儲存\n",
        "df = pd.DataFrame(table,\n",
        "          columns = [\"name(en)\", \"url\", \"genre\", \"intro\", \"rating\", \"dinner_price\", \"lunch_price\", \"dayoff\"])\n",
        "df.to_csv(\"tabelog.csv\", encoding = \"utf-8\")"
      ]
    },
    {
      "cell_type": "code",
      "source": [
        "import pandas as pd\n",
        "df = pd.read_csv(\"tabelog.csv\", encoding = \"utf-8\")\n",
        "def func(s):\n",
        "  loc = s.split(\"/\")[0]\n",
        "  return loc.strip()\n",
        "df[\"genre\"] = df[\"genre\"].apply(func)\n",
        "df[\"genre\"].value_counts()"
      ],
      "metadata": {
        "id": "4DGYWLQ_PIey"
      },
      "execution_count": null,
      "outputs": []
    },
    {
      "cell_type": "code",
      "source": [
        "import pandas as pd\n",
        "df = pd.read_csv(\"tabelog.csv\", encoding = \"utf-8\")\n",
        "\n",
        "def func(s):\n",
        "  if \"大和八木車站\" in s:\n",
        "    return True\n",
        "  else:\n",
        "    return False\n",
        "fil = (df[\"genre\"].apply(func)) & (df[\"rating\"].astype(\"float\") >= 3.5)\n",
        "df[fil]"
      ],
      "metadata": {
        "id": "9nMCv9INRHqz"
      },
      "execution_count": null,
      "outputs": []
    },
    {
      "cell_type": "code",
      "source": [
        "import pandas as pd\n",
        "df = pd.read_csv(\"tabelog.csv\", encoding = \"utf-8\")\n",
        "\n",
        "def func(s, name):\n",
        "  if name in s:\n",
        "    return True\n",
        "  else:\n",
        "    return False\n",
        "fil = (df[\"genre\"].apply(func, args=[\"大和八木車站\"])) & (df[\"rating\"].astype(\"float\") >= 3.5)\n",
        "df[fil]"
      ],
      "metadata": {
        "id": "WmUjw0tuTopz"
      },
      "execution_count": null,
      "outputs": []
    },
    {
      "cell_type": "code",
      "source": [
        "intro_all = (\"\\n\".join(df[\"intro\"]))\n",
        "jieba.analyse.extract_tags(intro_all,allowPOS=[\"nr\", \"ns\", \"nt\", \"nz\"])"
      ],
      "metadata": {
        "id": "U-xdnEMXY9Ik"
      },
      "execution_count": null,
      "outputs": []
    },
    {
      "cell_type": "code",
      "source": [
        "def func(s):\n",
        "  kewards = jieba.analyse.extract_tags(s,\n",
        "                     allowPOS=[\"nr\", \"ns\", \"nt\", \"nz\"])\n",
        "  return list(kewards)\n",
        "\n",
        "df[\"intro\"].apply(func)"
      ],
      "metadata": {
        "colab": {
          "base_uri": "https://localhost:8080/",
          "height": 458
        },
        "id": "7DlOe8RkxA_n",
        "outputId": "850cd207-442d-4446-e080-9d024c574365"
      },
      "execution_count": 71,
      "outputs": [
        {
          "output_type": "execute_result",
          "data": {
            "text/plain": [
              "0                   []\n",
              "1                   []\n",
              "2       [充滿希望, 懷石, 正宗]\n",
              "3                   []\n",
              "4                   []\n",
              "             ...      \n",
              "1195                []\n",
              "1196                []\n",
              "1197                []\n",
              "1198                []\n",
              "1199                []\n",
              "Name: intro, Length: 1200, dtype: object"
            ],
            "text/html": [
              "<div>\n",
              "<style scoped>\n",
              "    .dataframe tbody tr th:only-of-type {\n",
              "        vertical-align: middle;\n",
              "    }\n",
              "\n",
              "    .dataframe tbody tr th {\n",
              "        vertical-align: top;\n",
              "    }\n",
              "\n",
              "    .dataframe thead th {\n",
              "        text-align: right;\n",
              "    }\n",
              "</style>\n",
              "<table border=\"1\" class=\"dataframe\">\n",
              "  <thead>\n",
              "    <tr style=\"text-align: right;\">\n",
              "      <th></th>\n",
              "      <th>intro</th>\n",
              "    </tr>\n",
              "  </thead>\n",
              "  <tbody>\n",
              "    <tr>\n",
              "      <th>0</th>\n",
              "      <td>[]</td>\n",
              "    </tr>\n",
              "    <tr>\n",
              "      <th>1</th>\n",
              "      <td>[]</td>\n",
              "    </tr>\n",
              "    <tr>\n",
              "      <th>2</th>\n",
              "      <td>[充滿希望, 懷石, 正宗]</td>\n",
              "    </tr>\n",
              "    <tr>\n",
              "      <th>3</th>\n",
              "      <td>[]</td>\n",
              "    </tr>\n",
              "    <tr>\n",
              "      <th>4</th>\n",
              "      <td>[]</td>\n",
              "    </tr>\n",
              "    <tr>\n",
              "      <th>...</th>\n",
              "      <td>...</td>\n",
              "    </tr>\n",
              "    <tr>\n",
              "      <th>1195</th>\n",
              "      <td>[]</td>\n",
              "    </tr>\n",
              "    <tr>\n",
              "      <th>1196</th>\n",
              "      <td>[]</td>\n",
              "    </tr>\n",
              "    <tr>\n",
              "      <th>1197</th>\n",
              "      <td>[]</td>\n",
              "    </tr>\n",
              "    <tr>\n",
              "      <th>1198</th>\n",
              "      <td>[]</td>\n",
              "    </tr>\n",
              "    <tr>\n",
              "      <th>1199</th>\n",
              "      <td>[]</td>\n",
              "    </tr>\n",
              "  </tbody>\n",
              "</table>\n",
              "<p>1200 rows × 1 columns</p>\n",
              "</div><br><label><b>dtype:</b> object</label>"
            ]
          },
          "metadata": {},
          "execution_count": 71
        }
      ]
    },
    {
      "cell_type": "code",
      "source": [
        "practice = pd.DataFrame([\n",
        "    [1, 2, 3],\n",
        "    [4, 5, 6],\n",
        "    [7, 8, 9]\n",
        "], columns = [\"a\", \"b\", \"c\"], index = [\"c\", \"d\", \"e\"])\n",
        "#practice\n",
        "\n",
        "#取行: 字典\n",
        "# print(type(practice[\"a\"]))\n",
        "# print(type(practice[[\"a\", \"c\"]]))\n",
        "\n",
        "#取列: 1.實際第幾列(iloc) 2.看列標籤(loc)\n",
        "print(practice)\n",
        "# print(practice.loc[\"c\"])\n",
        "# print(practice.iloc[0:2])\n",
        "\n",
        "#過濾\n",
        "fil = [True, False, True]\n",
        "print(practice[fil])"
      ],
      "metadata": {
        "id": "2KmcZAK1V8wX"
      },
      "execution_count": null,
      "outputs": []
    },
    {
      "cell_type": "code",
      "source": [
        "#店休過濾處理\n",
        "table = []\n",
        "for h in df[\"dayoff\"]:\n",
        "  data = {\n",
        "      \"星期一\":True,\n",
        "      \"星期二\":True,\n",
        "      \"星期三\":True,\n",
        "      \"星期四\":True,\n",
        "      \"星期五\":True,\n",
        "      \"星期六\":True,\n",
        "      \"星期日\":True\n",
        "  }\n",
        "  check = data.keys()\n",
        "  for c in check:\n",
        "    if c in h:\n",
        "      data[c] = False\n",
        "  table.append(data)\n",
        "df2 = pd.DataFrame(table)\n",
        "total = pd.concat([df,df2], axis = 1)\n",
        "#過濾: 禮拜日有開，且評分>3.5\n",
        "fil2 = (total[\"星期日\"] == True) & (total[\"rating\"].astype(\"float\") >= 3.5)\n",
        "total[fil2]"
      ],
      "metadata": {
        "id": "vlA0C_TzqCvp"
      },
      "execution_count": null,
      "outputs": []
    },
    {
      "cell_type": "code",
      "source": [],
      "metadata": {
        "id": "_jR2lFPkO9Sz"
      },
      "execution_count": null,
      "outputs": []
    },
    {
      "cell_type": "code",
      "source": [
        "import math\n",
        "#轉換(apply)\n",
        "df[\"rating\"] = df[\"rating\"].astype(\"float\")\n",
        "b = round\n",
        "b(4.87)\n",
        "def func(state):\n",
        "  if state == 0:\n",
        "    return math.gcd\n",
        "  else:\n",
        "    return math.lcm\n",
        "# f = func(1)\n",
        "# f(3, 6)\n",
        "\n",
        "func(1)(6,9)"
      ],
      "metadata": {
        "id": "_o2L6CzhiNXo"
      },
      "execution_count": null,
      "outputs": []
    },
    {
      "cell_type": "code",
      "source": [
        "df[\"rating\"] = df[\"rating\"].astype(\"float\")\n",
        "df[\"rating\"].apply(round)"
      ],
      "metadata": {
        "id": "U_G-0G3F0NuR"
      },
      "execution_count": null,
      "outputs": []
    },
    {
      "cell_type": "markdown",
      "source": [
        "#Pandas\n",
        "\n",
        "```python\n",
        "\n",
        "1.表格無中生有的SOP\n",
        "(1).準備一個空list\n",
        "(2).把每一筆資料準備成一個dict，放進list\n",
        "(3).轉成DataFrame儲存\n",
        "\n",
        "2.基本操作\n",
        "(1).取column\n",
        "(2).取row\n",
        "(3).filter\n",
        "(4).apply\n",
        "(5).無中生有表格\n",
        "\n",
        "3.pandas主要型態分兩種\n",
        "(1).DataFrame: 表格型態，有行有列(2D)\n",
        "(2).Series: list型態，單行單列(1D)\n",
        "\n",
        "4.取列(index)\n",
        "(1).看他實際第幾列(iloc): 把0..2當key\n",
        "(2).看列標籤(loc): 字典型態，列標籤當作Key\n",
        "(3).專屬值\n",
        "\n",
        "5.過濾(filter)\n",
        "(1).原理:將與列的比數數量相同的True False帶入，對到True會留下，對到False的會丟掉\n",
        "(2).條件組合 and->& or->\n",
        "\n",
        "6.轉換(apply)\n",
        "(1).Series.apply:原有值 -> 轉換方式 -> 新值\n",
        "(2).轉換方式就是一個函示且不加小括號\n",
        "\n",
        "\n",
        "\"\"\"\n",
        "函式型態\n",
        "以前:每個功能都要加小括號()，就算沒有參數也需加入小括號\n",
        "Everything is an object: 每個東西都有形態，每個型態都有自己的操作\n",
        "e.g. list:[0][-1] dict:[key]\n",
        "round是一個型態 round(4.2)中的4.2是這個型態的操作參數\n",
        "round是步驟集合型態，(4.2)才是把步驟執行得到結果\n",
        "函式型態: 還沒被打開的錦囊\n",
        "對函式型態加小括號():把錦囊打開，執行並得到結果\n",
        "\"\"\"\n",
        "```"
      ],
      "metadata": {
        "id": "lqav7xLrQSoX"
      }
    },
    {
      "cell_type": "markdown",
      "source": [
        "#抓出關鍵詞\n",
        "1.西方語言:英文(字母->詞彙->片語(phrase))\n",
        "2.東方語言:中文(字->詞彙)\n",
        "\n",
        "#分詞: 我喜歡吃甜食 -> 我/喜歡/吃/甜食\n",
        "判斷哪個詞彙在整段話裡最重要:\n",
        "1.出現次數(TF):高，重要性越高\n",
        "2.常用程度(IDF):低，重要性越高\n",
        "\n",
        "#詞彙重要程度:(log = 2的幾次方)\n",
        "TF-IDF = 出現次數 * (1/常用程度)\n",
        "\n",
        "#Jieba: 預先統計常用程度\n",
        "DF = 詞彙出現在幾篇裡面/足夠多篇的文章\n",
        "1.分詞流程:\n",
        "(1).利用詞彙庫初步劃分\n",
        "(2).沒在詞彙庫/混淆狀況:從上下文推測哪種分法最合理\n",
        "2.更新詞彙資料庫\n",
        "(1).使用更完整的資料庫\n",
        "(2).新增客製的詞彙資料庫"
      ],
      "metadata": {
        "id": "A1d36d6GZLEL"
      }
    },
    {
      "cell_type": "code",
      "source": [
        "import jieba.analyse\n",
        "\n",
        "news = \"\"\"饗饗信義店爆發食物中毒案，累計59人就醫通報，目前該店已恢復營業，針對感染可能，北市衛生局食藥科長林冠蓁表示，個案中有超過7成都有食用過生魚片，且依照潛伏期和相關症狀看來，與諾羅病毒比較相似，但仍需要等待後續報告出爐才能確認。\n",
        "\n",
        "饗饗食物中毒案累計通報59名個案，昨日核准業者復業，林冠蓁指出，就醫民眾共食的食材包含生魚片、生蠔及干貝，目前已採樣環境檢體4件、人體檢體4件，結果最快1到2周後出爐，而59名通報案中，分別有42人吃生魚片、21人食用干貝、5人食用生蠔，有超過7成有吃過生魚片。\n",
        "\n",
        "\n",
        "\n",
        "林冠蓁說，根據復業報告中推測，可能是生鮮食材遭受諾羅病毒、病原性大腸桿菌、沙門氏菌等污染，加上目前通報個案的症狀和潛伏期都和諾羅病毒類似，高機率是諾羅病毒感染，但詳細原因仍需待調查報告出爐。\n",
        "\n",
        "如符合食品中毒病因物質及原因食品，將依違反《食品安全衛生管理法》第15條及第44條處6萬到2億元罰鍰。\"\"\"\n",
        "\n",
        "jieba.analyse.extract_tags(news)"
      ],
      "metadata": {
        "id": "U-2puKmPjhd8"
      },
      "execution_count": null,
      "outputs": []
    },
    {
      "cell_type": "code",
      "source": [
        "#設置\n",
        "import urllib.request as req\n",
        "url = \"https://github.com/fxsjy/jieba/raw/master/extra_dict/dict.txt.big\"\n",
        "req.urlretrieve(url, \"dict\")\n",
        "jieba.set_dictionary(\"dict\")\n",
        "jieba.analyse.extract_tags(news)"
      ],
      "metadata": {
        "id": "Vi0bxYhop36U"
      },
      "execution_count": null,
      "outputs": []
    },
    {
      "cell_type": "code",
      "source": [
        "#使用者自訂義\n",
        "extra_url = \"https://github.com/Elwing-Chou/tibame1224/raw/refs/heads/main/extra.dict.txt\"\n",
        "req.urlretrieve(url, \"extra.dict.txt\")\n",
        "jieba.load_userdict(\"extra.dict.txt\")\n",
        "jieba.analyse.extract_tags(news, allowPOS=[\"nr\", \"ns\", \"nt\", \"nz\"])\n",
        "\"/\".join(jieba.cut(news))"
      ],
      "metadata": {
        "colab": {
          "base_uri": "https://localhost:8080/",
          "height": 140
        },
        "id": "prOflQQ5uVTd",
        "outputId": "63f4a354-563d-4799-c05b-128624692e8d"
      },
      "execution_count": 68,
      "outputs": [
        {
          "output_type": "execute_result",
          "data": {
            "text/plain": [
              "'饗/饗/信義/店/爆發/食物中毒/案/，/累計/59/人/就醫/通報/，/目前/該店/已/恢復/營業/，/針對/感染/可能/，/北市/衛生局/食藥/科長/林冠/蓁/表示/，/個案/中有/超過/7/成都/有/食用/過/生魚片/，/且/依照/潛伏期/和/相關/症狀/看來/，/與/諾羅/病毒/比較/相似/，/但/仍/需要/等待/後續/報告/出爐/才能/確認/。/\\n/\\n/饗/饗/食物中毒/案/累計/通報/59/名/個案/，/昨日/核准/業者/復業/，/林冠/蓁/指出/，/就醫/民眾/共食/的/食材/包含/生魚片/、/生/蠔及/干貝/，/目前/已/採樣/環境/檢體/4/件/、/人/體檢/體/4/件/，/結果/最快/1/到/2/周/後/出爐/，/而/59/名/通報/案中/，/分別/有/42/人/吃/生魚片/、/21/人/食用/干貝/、/5/人/食用/生/蠔/，/有/超過/7/成有/吃過/生魚片/。/\\n/\\n/ /\\n/\\n/林冠/蓁/說/，/根據/復業/報告/中/推測/，/可能/是/生/鮮食/材/遭受/諾羅/病毒/、/病原/性/大腸桿菌/、/沙門氏菌/等/污染/，/加上/目前/通報/個案/的/症狀/和/潛伏期/都/和/諾羅/病毒/類似/，/高/機率/是/諾羅/病毒感染/，/但/詳細/原因/仍/需待/調查報告/出爐/。/\\n/\\n/如/符合/食品/中毒/病因/物質/及/原因/食品/，/將依/違反/《/食品/安全衛生/管理法/》/第/15/條/及第/44/條處/6/萬到/2/億元/罰/鍰/。'"
            ],
            "application/vnd.google.colaboratory.intrinsic+json": {
              "type": "string"
            }
          },
          "metadata": {},
          "execution_count": 68
        }
      ]
    },
    {
      "cell_type": "code",
      "source": [],
      "metadata": {
        "id": "xVOwq1Y9u4YG"
      },
      "execution_count": null,
      "outputs": []
    }
  ]
}