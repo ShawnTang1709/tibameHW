{
  "nbformat": 4,
  "nbformat_minor": 0,
  "metadata": {
    "colab": {
      "provenance": [],
      "authorship_tag": "ABX9TyOhFpHyYYCnrJTQsNaAWv3F",
      "include_colab_link": true
    },
    "kernelspec": {
      "name": "python3",
      "display_name": "Python 3"
    },
    "language_info": {
      "name": "python"
    }
  },
  "cells": [
    {
      "cell_type": "markdown",
      "metadata": {
        "id": "view-in-github",
        "colab_type": "text"
      },
      "source": [
        "<a href=\"https://colab.research.google.com/github/ShawnTang1709/tibameHW/blob/main/20250106.ipynb\" target=\"_parent\"><img src=\"https://colab.research.google.com/assets/colab-badge.svg\" alt=\"Open In Colab\"/></a>"
      ]
    },
    {
      "cell_type": "code",
      "execution_count": null,
      "metadata": {
        "id": "tHyy67IhktuF"
      },
      "outputs": [],
      "source": [
        "import json\n",
        "import urllib.request as req\n",
        "\n",
        "while True:\n",
        "    url = \"https://www.cosmed.com.tw/api/getStore.aspx?t=store&c=&d=&s=\"\n",
        "    f = req.urlopen(url)\n",
        "    content = f.read()\n",
        "    content = content.decode()\n",
        "    if \"Invalid\" in content:\n",
        "        print(\"retry...\")\n",
        "    else:\n",
        "        break\n",
        "f = open(\"cosmed.csv\", \"w\", encoding=\"utf-8\")\n",
        "f.write(\"名稱, 電話\\n\")\n",
        "content = json.loads(content)\n",
        "store_list = content[\"data\"]\n",
        "for store in store_list:\n",
        "    print(store[\"StoreNM\"])\n",
        "    print(store[\"Tel\"])\n",
        "    print(store[\"Address\"])\n",
        "    print(\"-\" * 30)\n",
        "    f.write(store[\"StoreNM\"])\n",
        "    f.write(\",\")\n",
        "    f.write(store[\"Tel\"])\n",
        "    f.write(\"\\n\")\n",
        "\n",
        "# 關閉\n",
        "f.close()"
      ]
    },
    {
      "cell_type": "code",
      "source": [
        "import pandas as pd\n",
        "import json\n",
        "import urllib.request as req\n",
        "\n",
        "url = \"https://api.gamer.com.tw/anime/v1/danmu.php?videoSn=41796&geo=TW%2CHK\"\n",
        "f = req.urlopen(url)\n",
        "content = f.read()\n",
        "content = content.decode()\n",
        "content = json.loads(content)\n",
        "danmu_list = content[\"data\"][\"danmu\"]\n",
        "\n",
        "#把json(list/dict)轉換為pandas表格型態(DataFrame)\n",
        "df = pd.json_normalize(danmu_list)\n",
        "#DataFrame專屬功能:to_xxx\n",
        "df.to_csv(\"danmu.csv\", encoding = \"utf-8\")\n",
        "\n",
        "#關閉\n",
        "f.close()"
      ],
      "metadata": {
        "id": "dcngaihtqiSG"
      },
      "execution_count": null,
      "outputs": []
    },
    {
      "cell_type": "markdown",
      "source": [
        "# 階梯走法/費波納契數列：迴圈累加求解走法總數\n",
        "- **題目描述**：\n",
        "- 每次可走一步或兩步，列出走到階梯100階\n",
        "- 推導 n 階走法總數與費波納契數列\n",
        "- **程式**：\n",
        "  - 設置 `previous1` 和 `previous2` 記錄前兩階走法數量"
      ],
      "metadata": {
        "id": "Ub70RiMULPa_"
      }
    },
    {
      "cell_type": "code",
      "source": [
        "#階梯走法/費波納契數列：迴圈累加求解走法總數\n",
        "pre1 = 1\n",
        "pre2 = 2\n",
        "total = 100\n",
        "#previous1 = n previous2 = 2n\n",
        "#x + 2y = total\n",
        "for i in range(total):\n",
        "  count = pre1 + pre2\n",
        "  pre2 = pre1\n",
        "  pre1 = count\n",
        "print(pre1)\n",
        "#費波納契數列：F_{n}=F_{n-1}+F_{n-2} (n≧2)"
      ],
      "metadata": {
        "id": "yQ401pu8L-L_",
        "outputId": "a32b4d23-619a-4e23-d4fc-69526acc25a9",
        "colab": {
          "base_uri": "https://localhost:8080/"
        }
      },
      "execution_count": null,
      "outputs": [
        {
          "output_type": "stream",
          "name": "stdout",
          "text": [
            "1281597540372340914251\n"
          ]
        }
      ]
    },
    {
      "cell_type": "code",
      "source": [
        "#階梯走法/費波納契數列：迴圈累加求解走法總數\n",
        "pre2, pre1 = 0, 0\n",
        "total = 100\n",
        "#previous1 = n previous2 = 2n\n",
        "#x + 2y = total\n",
        "for i in range(total):\n",
        "  if i == 0:\n",
        "    ans = 1\n",
        "    #第一層\n",
        "    pre1 = 1\n",
        "  elif i == 1:\n",
        "    ans = 2\n",
        "    #第一層 第二層\n",
        "    pre2, pre1 = 1, 2\n",
        "  else:\n",
        "    ans = pre1 + pre2\n",
        "    pre2, pre1 = pre1, ans\n",
        "\n",
        "print(\"總共有\", ans, \"種方法\")\n",
        "#費波納契數列：F_{n}=F_{n-1}+F_{n-2} (n≧2)"
      ],
      "metadata": {
        "id": "ptDw4Ml_Y0EV",
        "outputId": "0b9fafa7-dccb-4109-b19b-5add628b26e1",
        "colab": {
          "base_uri": "https://localhost:8080/"
        }
      },
      "execution_count": 11,
      "outputs": [
        {
          "output_type": "stream",
          "name": "stdout",
          "text": [
            "總共有 573147844013817084101 種方法\n"
          ]
        }
      ]
    },
    {
      "cell_type": "code",
      "source": [
        "#如果一階都不走的話是0種\n",
        "#會一直儲存走到每一階的方式總數\n",
        "steps = [0]\n",
        "#如果走4層，steps理命要有五個值\n",
        "total = 100\n",
        "for i in range(total):\n",
        "  if i == 0:\n",
        "    steps.append(1)\n",
        "  elif i == 1:\n",
        "    steps.append(2)\n",
        "  else:\n",
        "    way = steps[-1] + steps[-2]\n",
        "    steps.append(way)\n",
        "\n",
        "print(total, \"階有\", steps[-1], \"種走法\")"
      ],
      "metadata": {
        "id": "W8Gts3xbb9O7",
        "outputId": "7e0683d5-33a6-49d7-8e48-f3d993495395",
        "colab": {
          "base_uri": "https://localhost:8080/"
        }
      },
      "execution_count": 12,
      "outputs": [
        {
          "output_type": "stream",
          "name": "stdout",
          "text": [
            "100 階有 573147844013817084101 種走法\n"
          ]
        }
      ]
    },
    {
      "cell_type": "code",
      "source": [
        "steps = []\n",
        "total = 10\n",
        "n = 3\n",
        "for i in range(total):\n",
        "  #真正可以抓的前幾層數\n",
        "  #如果第一層(i=0):往前抓0層，第二層(i=1):抓1....\n",
        "  if i < n:\n",
        "    #不正常\n",
        "    ans = 1 #從第0層開始走\n",
        "    realn = i\n",
        "  else:\n",
        "    #正常\n",
        "    ans = 0\n",
        "    realn = n\n",
        "  for j in range(realn):\n",
        "    #前一個應該是[-1]，前兩個應該是[-2]\n",
        "    ans = ans + steps[-j - 1]\n",
        "  steps.append(ans)\n",
        "print(steps)\n",
        "print(total, \"階有\", steps[-1], \"種走法\")"
      ],
      "metadata": {
        "id": "uy4DOScEejYy",
        "outputId": "3fe9742f-4a3e-4729-ba98-5c77022aa933",
        "colab": {
          "base_uri": "https://localhost:8080/"
        }
      },
      "execution_count": 14,
      "outputs": [
        {
          "output_type": "stream",
          "name": "stdout",
          "text": [
            "[1, 2, 4, 7, 13, 24, 44, 81, 149, 274]\n",
            "10 階有 274 種走法\n"
          ]
        }
      ]
    },
    {
      "cell_type": "code",
      "source": [
        "#進階延伸\n",
        "steps = []\n",
        "accu = [0]\n",
        "total = 10\n",
        "n = 3\n",
        "for i in range(total):\n",
        "  #真正可以抓的前幾層數\n",
        "  #如果第一層(i=0):往前抓0層，第二層(i=1):抓1....\n",
        "  if i < n:\n",
        "    #不正常\n",
        "    ans = 1 #從第0層開始走\n",
        "  else:\n",
        "    #正常\n",
        "    ans = 0\n",
        "  #5層:[1, 2, 3, 6]\n",
        "  #accu:[0, 1, 3, 6, 12]\n",
        "  start, end = max(0, i-n), i\n",
        "  ans = ans + accu[end] - accu[start]\n",
        "  steps.append(ans)\n",
        "  accu.append(ans+accu[-1])\n",
        "\n",
        "print(steps)\n",
        "print(total, \"階有\", steps[-1], \"種走法\")"
      ],
      "metadata": {
        "id": "wAPlauCIgsQB",
        "outputId": "bec3bfba-7339-4f4a-a5e3-2c76363f9d3f",
        "colab": {
          "base_uri": "https://localhost:8080/"
        }
      },
      "execution_count": 17,
      "outputs": [
        {
          "output_type": "stream",
          "name": "stdout",
          "text": [
            "[1, 2, 4, 7, 13, 24, 44, 81, 149, 274]\n",
            "10 階有 274 種走法\n"
          ]
        }
      ]
    },
    {
      "cell_type": "markdown",
      "source": [
        "# 凱撒密碼破解：解密原文與密碼偏移值\n",
        "- **題目描述**：\n",
        "- 破解加密過文字，使用所有可能的密碼偏移量解密\n",
        "- **程式**：\n",
        "- 雙重迴圈，直到符合條件提示原文"
      ],
      "metadata": {
        "id": "57oodWU35-2X"
      }
    },
    {
      "cell_type": "code",
      "source": [
        "#下載password文件\n",
        "import urllib.request as req\n",
        "\n",
        "url = \"https://github.com/Elwing-Chou/tibame1224/raw/refs/heads/main/password.txt\"\n",
        "# 參數1:下載網址 參數2: 儲存本機的時候的命名\n",
        "req.urlretrieve(url, \"password.txt\")\n",
        "f = open(\"password.txt\", \"r\", encoding=\"utf-8\")\n",
        "message = f.read()\n",
        "f.close()"
      ],
      "metadata": {
        "id": "QsvsiYAB85sv"
      },
      "execution_count": null,
      "outputs": []
    },
    {
      "cell_type": "code",
      "source": [
        "s = \"\"\"原文\"\"\"\n",
        "#讀取檔案\n",
        "f = open(\"password.txt\", \"r\", encoding=\"utf-8\")\n",
        "text = f.read()\n",
        "f.close()\n",
        "#嘗試所有可能密碼(0-25)\n",
        "for password in range(26):\n",
        "  #破解後文字\n",
        "  decryped = \"\"\n",
        "\n",
        "  #對每個字解密\n",
        "  for c in text.lower():\n",
        "    if ord(\"a\") <= ord(c) <= ord(\"z\"):\n",
        "      n = ord(c) - ord(\"a\")\n",
        "      n = (n + password) % 26\n",
        "      #轉回成字母\n",
        "      decryped = decryped + chr(n + ord('a'))\n",
        "    else:\n",
        "      #非字母保持不變\n",
        "      decryped = decryped + c\n",
        "  #得到結果\n",
        "  if \"trouble will come of it\" in decryped:\n",
        "    print(\"密碼:\", password)\n",
        "    print(\"破解後文字:\", decryped)\n",
        "    break"
      ],
      "metadata": {
        "id": "0yR2sgtLy863",
        "outputId": "1960fffb-fa32-451a-e042-ecf556f6e6dd",
        "colab": {
          "base_uri": "https://localhost:8080/"
        }
      },
      "execution_count": null,
      "outputs": [
        {
          "output_type": "stream",
          "name": "stdout",
          "text": [
            "密碼: 11\n",
            "破解後文字: a long-expected party\n",
            "\n",
            "when mr. bilbo baggins of bag end announced that he would shortly be celebrating his eleventy-first birthday with a party of special magnificence, there was much talk and excitement in hobbiton.\n",
            "\n",
            "bilbo was very rich and very peculiar, and had been the wonder of the shire for sixty years, ever since his remarkable disappearance and unexpected return. the riches he had brought back from his travels had now become a local legend, and it was popularly believed, whatever the old folk might say, that the hill at bag end was full of tunnels stuffed with treasure. and if that was not enough for fame, there was also his prolonged vigour to marvel at. time wore on, but it seemed to have little effect on mr. baggins. at ninety he was much the same as at fifty. at ninety-nine they began to call him well-preserved, but unchanged would have been nearer the mark. there were some that shook their heads and thought this was too much of a good thing; it seemed unfair that anyone should possess (apparently) perpetual youth as well as (reputedly) inexhaustible wealth.\n",
            "\n",
            "'it will have to be paid for,' they said. 'it isn't natural, and trouble will come of it!'\n"
          ]
        }
      ]
    },
    {
      "cell_type": "markdown",
      "source": [
        "# Turtle 圖形：畫出內嵌正方形\n",
        "- **題目描述**：\n",
        "- 畫出正多邊形，觀察烏龜走法  \n",
        "- 多邊形邊數增加時，形狀漸近圓形\n",
        "- **程式**：\n",
        "- 座標計算中點方式設置新起點\n",
        "- 透過迴圈控制多次縮放繪圖。"
      ],
      "metadata": {
        "id": "iIHRWnSe6BbN"
      }
    },
    {
      "cell_type": "code",
      "source": [
        "!pip install ColabTurtle"
      ],
      "metadata": {
        "id": "qo2wQ8-ugFKq"
      },
      "execution_count": null,
      "outputs": []
    },
    {
      "cell_type": "code",
      "source": [
        "import ColabTurtle.Turtle as turtle\n",
        "turtle.initializeTurtle()\n",
        "# 設置狀態\n",
        "# turtle.hideturtle()\n",
        "turtle.speed(5)\n",
        "turtle.pensize(2)\n",
        "# 往前x步\n",
        "turtle.forward(40)\n",
        "# 抬起比(不話)\n",
        "turtle.penup()\n",
        "turtle.forward(40)\n",
        "turtle.pendown()\n",
        "turtle.forward(40)\n",
        "# 往右話(海龜轉90) 往左轉left\n",
        "turtle.right(90)\n",
        "turtle.forward(40)\n",
        "# 電腦坐標系: 左上角都是(0, 0), 往右增加, 往下增加\n",
        "turtle.goto(50, 50)\n",
        "turtle.forward(100)\n",
        "# 得到現在座標: pos()\n",
        "print(turtle.pos())"
      ],
      "metadata": {
        "id": "KA0XKufqgHj6",
        "outputId": "96bf7bb7-e941-4cc5-d211-d331984bad0d",
        "colab": {
          "base_uri": "https://localhost:8080/",
          "height": 539
        }
      },
      "execution_count": null,
      "outputs": [
        {
          "output_type": "display_data",
          "data": {
            "text/plain": [
              "<IPython.core.display.HTML object>"
            ],
            "text/html": [
              "\n",
              "      <svg width=\"800\" height=\"500\">\n",
              "        <rect width=\"100%\" height=\"100%\" fill=\"black\"/>\n",
              "        <line x1=\"400\" y1=\"250\" x2=\"400.0\" y2=\"210.0\" stroke-linecap=\"round\" style=\"stroke:white;stroke-width:2\"/><line x1=\"400.0\" y1=\"170.0\" x2=\"400.0\" y2=\"130.0\" stroke-linecap=\"round\" style=\"stroke:white;stroke-width:2\"/><line x1=\"400.0\" y1=\"130.0\" x2=\"440.0\" y2=\"130.0\" stroke-linecap=\"round\" style=\"stroke:white;stroke-width:2\"/><line x1=\"440.0\" y1=\"130.0\" x2=\"50\" y2=\"50\" stroke-linecap=\"round\" style=\"stroke:white;stroke-width:2\"/><line x1=\"50\" y1=\"50\" x2=\"150.0\" y2=\"50.0\" stroke-linecap=\"round\" style=\"stroke:white;stroke-width:2\"/>\n",
              "        <g visibility=visible transform=\"rotate(90,150.0,50.0) translate(132.0, 32.0)\">\n",
              "<path style=\" stroke:none;fill-rule:evenodd;fill:white;fill-opacity:1;\" d=\"M 18.214844 0.632812 C 16.109375 1.800781 15.011719 4.074219 15.074219 7.132812 L 15.085938 7.652344 L 14.785156 7.496094 C 13.476562 6.824219 11.957031 6.671875 10.40625 7.066406 C 8.46875 7.550781 6.515625 9.15625 4.394531 11.992188 C 3.0625 13.777344 2.679688 14.636719 3.042969 15.027344 L 3.15625 15.152344 L 3.519531 15.152344 C 4.238281 15.152344 4.828125 14.886719 8.1875 13.039062 C 9.386719 12.378906 10.371094 11.839844 10.378906 11.839844 C 10.386719 11.839844 10.355469 11.929688 10.304688 12.035156 C 9.832031 13.09375 9.257812 14.820312 8.96875 16.078125 C 7.914062 20.652344 8.617188 24.53125 11.070312 27.660156 C 11.351562 28.015625 11.363281 27.914062 10.972656 28.382812 C 8.925781 30.84375 7.945312 33.28125 8.238281 35.1875 C 8.289062 35.527344 8.28125 35.523438 8.917969 35.523438 C 10.941406 35.523438 13.074219 34.207031 15.136719 31.6875 C 15.359375 31.417969 15.328125 31.425781 15.5625 31.574219 C 16.292969 32.042969 18.023438 32.964844 18.175781 32.964844 C 18.335938 32.964844 19.941406 32.210938 20.828125 31.71875 C 20.996094 31.625 21.136719 31.554688 21.136719 31.558594 C 21.203125 31.664062 21.898438 32.414062 22.222656 32.730469 C 23.835938 34.300781 25.5625 35.132812 27.582031 35.300781 C 27.90625 35.328125 27.9375 35.308594 28.007812 34.984375 C 28.382812 33.242188 27.625 30.925781 25.863281 28.425781 L 25.542969 27.96875 L 25.699219 27.785156 C 28.945312 23.960938 29.132812 18.699219 26.257812 11.96875 L 26.207031 11.84375 L 27.945312 12.703125 C 31.53125 14.476562 32.316406 14.800781 33.03125 14.800781 C 33.976562 14.800781 33.78125 13.9375 32.472656 12.292969 C 28.519531 7.355469 25.394531 5.925781 21.921875 7.472656 L 21.558594 7.636719 L 21.578125 7.542969 C 21.699219 6.992188 21.761719 5.742188 21.699219 5.164062 C 21.496094 3.296875 20.664062 1.964844 19.003906 0.855469 C 18.480469 0.503906 18.457031 0.5 18.214844 0.632812\"/>\n",
              "</g>\n",
              "      </svg>\n",
              "    "
            ]
          },
          "metadata": {}
        },
        {
          "output_type": "stream",
          "name": "stdout",
          "text": [
            "(150.0, 50.0)\n"
          ]
        }
      ]
    },
    {
      "cell_type": "code",
      "source": [
        "import ColabTurtle.Turtle as turtle\n",
        "turtle.initializeTurtle()\n",
        "# 設置狀態\n",
        "# turtle.hideturtle()\n",
        "turtle.speed(2)\n",
        "turtle.pensize(1)\n",
        "\n",
        "# 畫一個正n邊形\n",
        "# 畫其中的一個三角形\n",
        "n = 5\n",
        "# 算中間腳\n",
        "angle = 360 / n\n",
        "\n",
        "for i in range(n):\n",
        "    # 畫一個三角形\n",
        "    turtle.forward(100)\n",
        "    prev = turtle.pos()\n",
        "    turtle.home()\n",
        "    turtle.right(angle * (i + 1))\n",
        "    turtle.forward(100)\n",
        "    turtle.goto(prev)\n",
        "    turtle.home()\n",
        "    turtle.right(angle * (i + 1))"
      ],
      "metadata": {
        "id": "vIvDIuyYgJdK",
        "outputId": "c5c42050-c939-47bb-a04a-3891509a52e4",
        "colab": {
          "base_uri": "https://localhost:8080/",
          "height": 522
        }
      },
      "execution_count": null,
      "outputs": [
        {
          "output_type": "display_data",
          "data": {
            "text/plain": [
              "<IPython.core.display.HTML object>"
            ],
            "text/html": [
              "\n",
              "      <svg width=\"800\" height=\"500\">\n",
              "        <rect width=\"100%\" height=\"100%\" fill=\"black\"/>\n",
              "        <line x1=\"400\" y1=\"250\" x2=\"400.0\" y2=\"150.0\" stroke-linecap=\"round\" style=\"stroke:white;stroke-width:1\"/><line x1=\"400.0\" y1=\"150.0\" x2=\"400\" y2=\"250\" stroke-linecap=\"round\" style=\"stroke:white;stroke-width:1\"/><line x1=\"400\" y1=\"250\" x2=\"495.106\" y2=\"219.098\" stroke-linecap=\"round\" style=\"stroke:white;stroke-width:1\"/><line x1=\"495.106\" y1=\"219.098\" x2=\"400.0\" y2=\"150.0\" stroke-linecap=\"round\" style=\"stroke:white;stroke-width:1\"/><line x1=\"400.0\" y1=\"150.0\" x2=\"400\" y2=\"250\" stroke-linecap=\"round\" style=\"stroke:white;stroke-width:1\"/><line x1=\"400\" y1=\"250\" x2=\"495.106\" y2=\"219.098\" stroke-linecap=\"round\" style=\"stroke:white;stroke-width:1\"/><line x1=\"495.106\" y1=\"219.098\" x2=\"400\" y2=\"250\" stroke-linecap=\"round\" style=\"stroke:white;stroke-width:1\"/><line x1=\"400\" y1=\"250\" x2=\"458.779\" y2=\"330.902\" stroke-linecap=\"round\" style=\"stroke:white;stroke-width:1\"/><line x1=\"458.779\" y1=\"330.902\" x2=\"495.106\" y2=\"219.098\" stroke-linecap=\"round\" style=\"stroke:white;stroke-width:1\"/><line x1=\"495.106\" y1=\"219.098\" x2=\"400\" y2=\"250\" stroke-linecap=\"round\" style=\"stroke:white;stroke-width:1\"/><line x1=\"400\" y1=\"250\" x2=\"458.779\" y2=\"330.902\" stroke-linecap=\"round\" style=\"stroke:white;stroke-width:1\"/><line x1=\"458.779\" y1=\"330.902\" x2=\"400\" y2=\"250\" stroke-linecap=\"round\" style=\"stroke:white;stroke-width:1\"/><line x1=\"400\" y1=\"250\" x2=\"341.221\" y2=\"330.902\" stroke-linecap=\"round\" style=\"stroke:white;stroke-width:1\"/><line x1=\"341.221\" y1=\"330.902\" x2=\"458.779\" y2=\"330.902\" stroke-linecap=\"round\" style=\"stroke:white;stroke-width:1\"/><line x1=\"458.779\" y1=\"330.902\" x2=\"400\" y2=\"250\" stroke-linecap=\"round\" style=\"stroke:white;stroke-width:1\"/><line x1=\"400\" y1=\"250\" x2=\"341.221\" y2=\"330.902\" stroke-linecap=\"round\" style=\"stroke:white;stroke-width:1\"/><line x1=\"341.221\" y1=\"330.902\" x2=\"400\" y2=\"250\" stroke-linecap=\"round\" style=\"stroke:white;stroke-width:1\"/><line x1=\"400\" y1=\"250\" x2=\"304.894\" y2=\"219.098\" stroke-linecap=\"round\" style=\"stroke:white;stroke-width:1\"/><line x1=\"304.894\" y1=\"219.098\" x2=\"341.221\" y2=\"330.902\" stroke-linecap=\"round\" style=\"stroke:white;stroke-width:1\"/><line x1=\"341.221\" y1=\"330.902\" x2=\"400\" y2=\"250\" stroke-linecap=\"round\" style=\"stroke:white;stroke-width:1\"/><line x1=\"400\" y1=\"250\" x2=\"304.894\" y2=\"219.098\" stroke-linecap=\"round\" style=\"stroke:white;stroke-width:1\"/><line x1=\"304.894\" y1=\"219.098\" x2=\"400\" y2=\"250\" stroke-linecap=\"round\" style=\"stroke:white;stroke-width:1\"/><line x1=\"400\" y1=\"250\" x2=\"400.0\" y2=\"150.0\" stroke-linecap=\"round\" style=\"stroke:white;stroke-width:1\"/><line x1=\"400.0\" y1=\"150.0\" x2=\"304.894\" y2=\"219.098\" stroke-linecap=\"round\" style=\"stroke:white;stroke-width:1\"/><line x1=\"304.894\" y1=\"219.098\" x2=\"400\" y2=\"250\" stroke-linecap=\"round\" style=\"stroke:white;stroke-width:1\"/>\n",
              "        <g visibility=visible transform=\"rotate(360.0,400,250) translate(382, 232)\">\n",
              "<path style=\" stroke:none;fill-rule:evenodd;fill:white;fill-opacity:1;\" d=\"M 18.214844 0.632812 C 16.109375 1.800781 15.011719 4.074219 15.074219 7.132812 L 15.085938 7.652344 L 14.785156 7.496094 C 13.476562 6.824219 11.957031 6.671875 10.40625 7.066406 C 8.46875 7.550781 6.515625 9.15625 4.394531 11.992188 C 3.0625 13.777344 2.679688 14.636719 3.042969 15.027344 L 3.15625 15.152344 L 3.519531 15.152344 C 4.238281 15.152344 4.828125 14.886719 8.1875 13.039062 C 9.386719 12.378906 10.371094 11.839844 10.378906 11.839844 C 10.386719 11.839844 10.355469 11.929688 10.304688 12.035156 C 9.832031 13.09375 9.257812 14.820312 8.96875 16.078125 C 7.914062 20.652344 8.617188 24.53125 11.070312 27.660156 C 11.351562 28.015625 11.363281 27.914062 10.972656 28.382812 C 8.925781 30.84375 7.945312 33.28125 8.238281 35.1875 C 8.289062 35.527344 8.28125 35.523438 8.917969 35.523438 C 10.941406 35.523438 13.074219 34.207031 15.136719 31.6875 C 15.359375 31.417969 15.328125 31.425781 15.5625 31.574219 C 16.292969 32.042969 18.023438 32.964844 18.175781 32.964844 C 18.335938 32.964844 19.941406 32.210938 20.828125 31.71875 C 20.996094 31.625 21.136719 31.554688 21.136719 31.558594 C 21.203125 31.664062 21.898438 32.414062 22.222656 32.730469 C 23.835938 34.300781 25.5625 35.132812 27.582031 35.300781 C 27.90625 35.328125 27.9375 35.308594 28.007812 34.984375 C 28.382812 33.242188 27.625 30.925781 25.863281 28.425781 L 25.542969 27.96875 L 25.699219 27.785156 C 28.945312 23.960938 29.132812 18.699219 26.257812 11.96875 L 26.207031 11.84375 L 27.945312 12.703125 C 31.53125 14.476562 32.316406 14.800781 33.03125 14.800781 C 33.976562 14.800781 33.78125 13.9375 32.472656 12.292969 C 28.519531 7.355469 25.394531 5.925781 21.921875 7.472656 L 21.558594 7.636719 L 21.578125 7.542969 C 21.699219 6.992188 21.761719 5.742188 21.699219 5.164062 C 21.496094 3.296875 20.664062 1.964844 19.003906 0.855469 C 18.480469 0.503906 18.457031 0.5 18.214844 0.632812\"/>\n",
              "</g>\n",
              "      </svg>\n",
              "    "
            ]
          },
          "metadata": {}
        }
      ]
    },
    {
      "cell_type": "code",
      "source": [
        "# 設置\n",
        "turtle.initializeTurtle()\n",
        "turtle.hideturtle()\n",
        "turtle.pensize(1)\n",
        "turtle.speed(5)\n",
        "start = [[200, 50], [600, 50], [600, 450], [200, 450]]\n",
        "for i in range(20):\n",
        "    # 先把筆拿出來\n",
        "    turtle.penup()\n",
        "    # 把我的點移至第一點\n",
        "    x, y = start[0]\n",
        "    turtle.goto(x, y)\n",
        "    # 開始畫 1->2->3->1\n",
        "    turtle.pendown()\n",
        "    for j in range(4):\n",
        "        # 除了要參考下面的開始畫\n",
        "        # 妳還要把newpos每一個0替換成一個新的座標(前面兩個座標的中間點)\n",
        "        newpos = [\"nopos\"] * 4\n",
        "\n",
        "    # 最後一步, 把妳要畫的四個點換成新的四個點\n",
        "    start = newpos"
      ],
      "metadata": {
        "id": "u1j52RAUgLGa",
        "outputId": "ec589da7-7422-40f7-9f67-fbf0fb24d413",
        "colab": {
          "base_uri": "https://localhost:8080/",
          "height": 522
        }
      },
      "execution_count": null,
      "outputs": [
        {
          "output_type": "display_data",
          "data": {
            "text/plain": [
              "<IPython.core.display.HTML object>"
            ],
            "text/html": [
              "\n",
              "      <svg width=\"800\" height=\"500\">\n",
              "        <rect width=\"100%\" height=\"100%\" fill=\"black\"/>\n",
              "        \n",
              "        <g visibility=hidden transform=\"rotate(360,200,50) translate(182, 32)\">\n",
              "<path style=\" stroke:none;fill-rule:evenodd;fill:white;fill-opacity:1;\" d=\"M 18.214844 0.632812 C 16.109375 1.800781 15.011719 4.074219 15.074219 7.132812 L 15.085938 7.652344 L 14.785156 7.496094 C 13.476562 6.824219 11.957031 6.671875 10.40625 7.066406 C 8.46875 7.550781 6.515625 9.15625 4.394531 11.992188 C 3.0625 13.777344 2.679688 14.636719 3.042969 15.027344 L 3.15625 15.152344 L 3.519531 15.152344 C 4.238281 15.152344 4.828125 14.886719 8.1875 13.039062 C 9.386719 12.378906 10.371094 11.839844 10.378906 11.839844 C 10.386719 11.839844 10.355469 11.929688 10.304688 12.035156 C 9.832031 13.09375 9.257812 14.820312 8.96875 16.078125 C 7.914062 20.652344 8.617188 24.53125 11.070312 27.660156 C 11.351562 28.015625 11.363281 27.914062 10.972656 28.382812 C 8.925781 30.84375 7.945312 33.28125 8.238281 35.1875 C 8.289062 35.527344 8.28125 35.523438 8.917969 35.523438 C 10.941406 35.523438 13.074219 34.207031 15.136719 31.6875 C 15.359375 31.417969 15.328125 31.425781 15.5625 31.574219 C 16.292969 32.042969 18.023438 32.964844 18.175781 32.964844 C 18.335938 32.964844 19.941406 32.210938 20.828125 31.71875 C 20.996094 31.625 21.136719 31.554688 21.136719 31.558594 C 21.203125 31.664062 21.898438 32.414062 22.222656 32.730469 C 23.835938 34.300781 25.5625 35.132812 27.582031 35.300781 C 27.90625 35.328125 27.9375 35.308594 28.007812 34.984375 C 28.382812 33.242188 27.625 30.925781 25.863281 28.425781 L 25.542969 27.96875 L 25.699219 27.785156 C 28.945312 23.960938 29.132812 18.699219 26.257812 11.96875 L 26.207031 11.84375 L 27.945312 12.703125 C 31.53125 14.476562 32.316406 14.800781 33.03125 14.800781 C 33.976562 14.800781 33.78125 13.9375 32.472656 12.292969 C 28.519531 7.355469 25.394531 5.925781 21.921875 7.472656 L 21.558594 7.636719 L 21.578125 7.542969 C 21.699219 6.992188 21.761719 5.742188 21.699219 5.164062 C 21.496094 3.296875 20.664062 1.964844 19.003906 0.855469 C 18.480469 0.503906 18.457031 0.5 18.214844 0.632812\"/>\n",
              "</g>\n",
              "      </svg>\n",
              "    "
            ]
          },
          "metadata": {}
        }
      ]
    },
    {
      "cell_type": "code",
      "source": [
        "turtle.initializeTurtle()\n",
        "# turtle.hideturtle()\n",
        "turtle.pensize(1)\n",
        "turtle.speed(5)\n",
        "# advice\n",
        "start = [[200, 50], [600, 50], [600, 450], [200, 450]]\n",
        "\n",
        "# 一次\n",
        "turtle.penup()\n",
        "# 先走到第一點(不畫)\n",
        "x, y = start[0]\n",
        "turtle.goto(x, y)\n",
        "turtle.pendown()\n",
        "for i in range(4):\n",
        "    # 1->2->3->1\n",
        "    x2, y2 = start[(i+1)%4]\n",
        "    turtle.goto(x2, y2)"
      ],
      "metadata": {
        "id": "Ve1z3S5ggRMy",
        "outputId": "2682d1ce-2cd3-4d93-c07c-30f8ad32cc3f",
        "colab": {
          "base_uri": "https://localhost:8080/",
          "height": 522
        }
      },
      "execution_count": null,
      "outputs": [
        {
          "output_type": "display_data",
          "data": {
            "text/plain": [
              "<IPython.core.display.HTML object>"
            ],
            "text/html": [
              "\n",
              "      <svg width=\"800\" height=\"500\">\n",
              "        <rect width=\"100%\" height=\"100%\" fill=\"black\"/>\n",
              "        <line x1=\"200\" y1=\"50\" x2=\"600\" y2=\"50\" stroke-linecap=\"round\" style=\"stroke:white;stroke-width:1\"/><line x1=\"600\" y1=\"50\" x2=\"600\" y2=\"450\" stroke-linecap=\"round\" style=\"stroke:white;stroke-width:1\"/><line x1=\"600\" y1=\"450\" x2=\"200\" y2=\"450\" stroke-linecap=\"round\" style=\"stroke:white;stroke-width:1\"/><line x1=\"200\" y1=\"450\" x2=\"200\" y2=\"50\" stroke-linecap=\"round\" style=\"stroke:white;stroke-width:1\"/>\n",
              "        <g visibility=visible transform=\"rotate(360,200,50) translate(182, 32)\">\n",
              "<path style=\" stroke:none;fill-rule:evenodd;fill:white;fill-opacity:1;\" d=\"M 18.214844 0.632812 C 16.109375 1.800781 15.011719 4.074219 15.074219 7.132812 L 15.085938 7.652344 L 14.785156 7.496094 C 13.476562 6.824219 11.957031 6.671875 10.40625 7.066406 C 8.46875 7.550781 6.515625 9.15625 4.394531 11.992188 C 3.0625 13.777344 2.679688 14.636719 3.042969 15.027344 L 3.15625 15.152344 L 3.519531 15.152344 C 4.238281 15.152344 4.828125 14.886719 8.1875 13.039062 C 9.386719 12.378906 10.371094 11.839844 10.378906 11.839844 C 10.386719 11.839844 10.355469 11.929688 10.304688 12.035156 C 9.832031 13.09375 9.257812 14.820312 8.96875 16.078125 C 7.914062 20.652344 8.617188 24.53125 11.070312 27.660156 C 11.351562 28.015625 11.363281 27.914062 10.972656 28.382812 C 8.925781 30.84375 7.945312 33.28125 8.238281 35.1875 C 8.289062 35.527344 8.28125 35.523438 8.917969 35.523438 C 10.941406 35.523438 13.074219 34.207031 15.136719 31.6875 C 15.359375 31.417969 15.328125 31.425781 15.5625 31.574219 C 16.292969 32.042969 18.023438 32.964844 18.175781 32.964844 C 18.335938 32.964844 19.941406 32.210938 20.828125 31.71875 C 20.996094 31.625 21.136719 31.554688 21.136719 31.558594 C 21.203125 31.664062 21.898438 32.414062 22.222656 32.730469 C 23.835938 34.300781 25.5625 35.132812 27.582031 35.300781 C 27.90625 35.328125 27.9375 35.308594 28.007812 34.984375 C 28.382812 33.242188 27.625 30.925781 25.863281 28.425781 L 25.542969 27.96875 L 25.699219 27.785156 C 28.945312 23.960938 29.132812 18.699219 26.257812 11.96875 L 26.207031 11.84375 L 27.945312 12.703125 C 31.53125 14.476562 32.316406 14.800781 33.03125 14.800781 C 33.976562 14.800781 33.78125 13.9375 32.472656 12.292969 C 28.519531 7.355469 25.394531 5.925781 21.921875 7.472656 L 21.558594 7.636719 L 21.578125 7.542969 C 21.699219 6.992188 21.761719 5.742188 21.699219 5.164062 C 21.496094 3.296875 20.664062 1.964844 19.003906 0.855469 C 18.480469 0.503906 18.457031 0.5 18.214844 0.632812\"/>\n",
              "</g>\n",
              "      </svg>\n",
              "    "
            ]
          },
          "metadata": {}
        }
      ]
    },
    {
      "cell_type": "code",
      "source": [
        "turtle.initializeTurtle()\n",
        "# turtle.hideturtle()\n",
        "turtle.pensize(1)\n",
        "turtle.speed(5)\n",
        "\n",
        "start = [[200, 50], [600, 50], [600, 450], [200, 450]]\n",
        "times = 8\n",
        "\n",
        "for i in range(4):\n",
        "  next_point = start[(i+1) % 4]\n",
        "  turtle.goto(next_point[0], next_point[1])\n",
        "\n",
        "current_points = start\n",
        "for i in range(times - 1):\n",
        "\n",
        "  #當前正方形所有點\n",
        "\n",
        "  #下一個正方形的點\n",
        "  next_point = []\n",
        "  for i in range(4):\n",
        "    current = start[i]\n",
        "    next_point = start[(i+1) % 4]\n",
        "    max_x = (current[0] + next_point[0]) / 2\n",
        "    mid_y = (current[1] + next_point[1]) / 2\n",
        "    next_point.append([max_x, mid_y])\n",
        "\n",
        "  turtle.penup()\n",
        "  turtle.goto(start[0][0], start[0][1])\n",
        "  turtle.pendown()\n",
        "\n",
        "  for i in range(4):\n",
        "      point = next_point[(i + 1) % 4]\n",
        "      turtle.goto(point[0], point[1])\n",
        "  current_points = next_point\n",
        "\n",
        "turtle.done()\n"
      ],
      "metadata": {
        "id": "mKPOc7qlm3mT",
        "outputId": "198e2c23-00a1-4a4b-c009-fba37feab58a",
        "colab": {
          "base_uri": "https://localhost:8080/",
          "height": 211
        }
      },
      "execution_count": null,
      "outputs": [
        {
          "output_type": "error",
          "ename": "AttributeError",
          "evalue": "module 'turtle' has no attribute 'initializeTurtle'",
          "traceback": [
            "\u001b[0;31m---------------------------------------------------------------------------\u001b[0m",
            "\u001b[0;31mAttributeError\u001b[0m                            Traceback (most recent call last)",
            "\u001b[0;32m<ipython-input-46-b8ebd1c7dff3>\u001b[0m in \u001b[0;36m<cell line: 1>\u001b[0;34m()\u001b[0m\n\u001b[0;32m----> 1\u001b[0;31m \u001b[0mturtle\u001b[0m\u001b[0;34m.\u001b[0m\u001b[0minitializeTurtle\u001b[0m\u001b[0;34m(\u001b[0m\u001b[0;34m)\u001b[0m\u001b[0;34m\u001b[0m\u001b[0;34m\u001b[0m\u001b[0m\n\u001b[0m\u001b[1;32m      2\u001b[0m \u001b[0;31m# turtle.hideturtle()\u001b[0m\u001b[0;34m\u001b[0m\u001b[0;34m\u001b[0m\u001b[0m\n\u001b[1;32m      3\u001b[0m \u001b[0mturtle\u001b[0m\u001b[0;34m.\u001b[0m\u001b[0mpensize\u001b[0m\u001b[0;34m(\u001b[0m\u001b[0;36m1\u001b[0m\u001b[0;34m)\u001b[0m\u001b[0;34m\u001b[0m\u001b[0;34m\u001b[0m\u001b[0m\n\u001b[1;32m      4\u001b[0m \u001b[0mturtle\u001b[0m\u001b[0;34m.\u001b[0m\u001b[0mspeed\u001b[0m\u001b[0;34m(\u001b[0m\u001b[0;36m5\u001b[0m\u001b[0;34m)\u001b[0m\u001b[0;34m\u001b[0m\u001b[0;34m\u001b[0m\u001b[0m\n\u001b[1;32m      5\u001b[0m \u001b[0;34m\u001b[0m\u001b[0m\n",
            "\u001b[0;31mAttributeError\u001b[0m: module 'turtle' has no attribute 'initializeTurtle'"
          ]
        }
      ]
    }
  ]
}