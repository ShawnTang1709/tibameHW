{
  "nbformat": 4,
  "nbformat_minor": 0,
  "metadata": {
    "colab": {
      "provenance": [],
      "authorship_tag": "ABX9TyM5lAtI5n275qN9t/xqu9MM",
      "include_colab_link": true
    },
    "kernelspec": {
      "name": "python3",
      "display_name": "Python 3"
    },
    "language_info": {
      "name": "python"
    }
  },
  "cells": [
    {
      "cell_type": "markdown",
      "metadata": {
        "id": "view-in-github",
        "colab_type": "text"
      },
      "source": [
        "<a href=\"https://colab.research.google.com/github/ShawnTang1709/tibameHW/blob/main/20250106.ipynb\" target=\"_parent\"><img src=\"https://colab.research.google.com/assets/colab-badge.svg\" alt=\"Open In Colab\"/></a>"
      ]
    },
    {
      "cell_type": "code",
      "execution_count": null,
      "metadata": {
        "id": "tHyy67IhktuF"
      },
      "outputs": [],
      "source": [
        "import json\n",
        "import urllib.request as req\n",
        "\n",
        "while True:\n",
        "    url = \"https://www.cosmed.com.tw/api/getStore.aspx?t=store&c=&d=&s=\"\n",
        "    f = req.urlopen(url)\n",
        "    content = f.read()\n",
        "    content = content.decode()\n",
        "    if \"Invalid\" in content:\n",
        "        print(\"retry...\")\n",
        "    else:\n",
        "        break\n",
        "f = open(\"cosmed.csv\", \"w\", encoding=\"utf-8\")\n",
        "f.write(\"名稱, 電話\\n\")\n",
        "content = json.loads(content)\n",
        "store_list = content[\"data\"]\n",
        "for store in store_list:\n",
        "    print(store[\"StoreNM\"])\n",
        "    print(store[\"Tel\"])\n",
        "    print(store[\"Address\"])\n",
        "    print(\"-\" * 30)\n",
        "    f.write(store[\"StoreNM\"])\n",
        "    f.write(\",\")\n",
        "    f.write(store[\"Tel\"])\n",
        "    f.write(\"\\n\")\n",
        "\n",
        "# 關閉\n",
        "f.close()"
      ]
    },
    {
      "cell_type": "code",
      "source": [
        "import pandas as pd\n",
        "import json\n",
        "import urllib.request as req\n",
        "\n",
        "url = \"https://api.gamer.com.tw/anime/v1/danmu.php?videoSn=41796&geo=TW%2CHK\"\n",
        "f = req.urlopen(url)\n",
        "content = f.read()\n",
        "content = content.decode()\n",
        "content = json.loads(content)\n",
        "danmu_list = content[\"data\"][\"danmu\"]\n",
        "\n",
        "#把json(list/dict)轉換為pandas表格型態(DataFrame)\n",
        "df = pd.json_normalize(danmu_list)\n",
        "#DataFrame專屬功能:to_xxx\n",
        "df.to_csv(\"danmu.csv\", encoding = \"utf-8\")\n",
        "\n",
        "#關閉\n",
        "f.close()"
      ],
      "metadata": {
        "id": "dcngaihtqiSG"
      },
      "execution_count": 17,
      "outputs": []
    }
  ]
}