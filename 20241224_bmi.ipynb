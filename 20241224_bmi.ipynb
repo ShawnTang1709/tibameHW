{
  "nbformat": 4,
  "nbformat_minor": 0,
  "metadata": {
    "colab": {
      "provenance": [],
      "authorship_tag": "ABX9TyNSFHmvbGhfhABAQ3WgDxsc",
      "include_colab_link": true
    },
    "kernelspec": {
      "name": "python3",
      "display_name": "Python 3"
    },
    "language_info": {
      "name": "python"
    }
  },
  "cells": [
    {
      "cell_type": "markdown",
      "metadata": {
        "id": "view-in-github",
        "colab_type": "text"
      },
      "source": [
        "<a href=\"https://colab.research.google.com/github/ShawnTang1709/tibameHW/blob/main/20241224_bmi.ipynb\" target=\"_parent\"><img src=\"https://colab.research.google.com/assets/colab-badge.svg\" alt=\"Open In Colab\"/></a>"
      ]
    },
    {
      "cell_type": "code",
      "execution_count": 41,
      "metadata": {
        "colab": {
          "base_uri": "https://localhost:8080/"
        },
        "id": "xu3CBN9QbD8T",
        "outputId": "24fbe893-d7b5-4fc8-d131-563e70dd40cd"
      },
      "outputs": [
        {
          "output_type": "stream",
          "name": "stdout",
          "text": [
            "請輸入數字(0.剪刀, 1.石頭 2.布):0\n",
            "玩家出拳為: 剪刀\n",
            "電腦出拳為: 石頭\n",
            "電腦獲勝\n"
          ]
        }
      ],
      "source": [
        "from ctypes import resize\n",
        "'''bmi程式\n",
        "1.輸入身高體重\n",
        "2.計算bmi\n",
        "3.給予建議'''\n",
        "height = int(input(\"請輸入身高\"))\n",
        "weight = int(input(\"請輸入體重\"))\n",
        "bmi = round(height / (height/weight)**2)\n",
        "\n",
        "# if bmi < 19:\n",
        "#   result = \"過輕\"\n",
        "# elif bmi <= 25:\n",
        "#   result = \"正常\"\n",
        "# elif bmi >= 28:\n",
        "#   result = \"過重\"\n",
        "result = lambda bmi: \"過輕\" if bmi < 19 else \"正常\" if bmi <= 25 else \"過重\"\n",
        "\n",
        "print(f\"BMI為:\", bmi, result(bmi))"
      ]
    },
    {
      "cell_type": "code",
      "source": [
        "#剪刀石頭布\n",
        "import random\n",
        "user = int(input(\"請輸入數字(0.剪刀, 1.石頭 2.布):\"))\n",
        "computer = random.randint(0, 2)\n",
        "\n",
        "def transform(x):\n",
        "  if x == 0:\n",
        "    reuslt = \"剪刀\"\n",
        "  elif x == 1:\n",
        "    reuslt = \"石頭\"\n",
        "  elif x == 2:\n",
        "    reuslt = \"布\"\n",
        "  return str(reuslt)\n",
        "\n",
        "def judge(user, computer):\n",
        "  if user == computer:\n",
        "    return(\"平手\")\n",
        "  elif (user == 0 and computer == 1) or (user == 1 and computer == 2) or (user == 2 and computer == 0):\n",
        "    return(\"電腦獲勝\")\n",
        "  else:\n",
        "    return(\"玩家獲勝\")\n",
        "\n",
        "print(\"玩家出拳為:\", transform(user))\n",
        "print(\"電腦出拳為:\", transform(computer))\n",
        "print(judge(user, computer))"
      ],
      "metadata": {
        "id": "SKi6ObeurPaT"
      },
      "execution_count": null,
      "outputs": []
    },
    {
      "cell_type": "code",
      "source": [
        "import random\n",
        "user = int(input(\"請輸入數字(0.剪刀, 1.石頭 2.布):\"))\n",
        "computer = random.randint(0, 2)\n",
        "tran = [\"剪刀\", \"石頭\", \"布\"]\n",
        "print(\"玩家出拳為:\", tran[user])\n",
        "print(\"電腦出拳為:\", tran[computer])\n",
        "if user == (computer+1) % 3:\n",
        "  print(\"玩家獲勝\")\n",
        "elif user == computer:\n",
        "  print(\"平手\")\n",
        "else:\n",
        "  print(\"電腦獲勝\")"
      ],
      "metadata": {
        "id": "3F5SNRDnk0P-"
      },
      "execution_count": null,
      "outputs": []
    }
  ]
}