{
  "nbformat": 4,
  "nbformat_minor": 0,
  "metadata": {
    "colab": {
      "provenance": [],
      "authorship_tag": "ABX9TyPU1m+3E+RQkY6tzcBjXc50",
      "include_colab_link": true
    },
    "kernelspec": {
      "name": "python3",
      "display_name": "Python 3"
    },
    "language_info": {
      "name": "python"
    }
  },
  "cells": [
    {
      "cell_type": "markdown",
      "metadata": {
        "id": "view-in-github",
        "colab_type": "text"
      },
      "source": [
        "<a href=\"https://colab.research.google.com/github/ShawnTang1709/tibameHW/blob/main/20241224_bmi.ipynb\" target=\"_parent\"><img src=\"https://colab.research.google.com/assets/colab-badge.svg\" alt=\"Open In Colab\"/></a>"
      ]
    },
    {
      "cell_type": "code",
      "execution_count": null,
      "metadata": {
        "colab": {
          "base_uri": "https://localhost:8080/"
        },
        "id": "xu3CBN9QbD8T",
        "outputId": "8f191156-3018-4b2d-e590-bc7aa15a5b23"
      },
      "outputs": [
        {
          "output_type": "stream",
          "name": "stdout",
          "text": [
            "請輸入身高180\n",
            "請輸入體重100\n",
            "BMI為: 56\n"
          ]
        }
      ],
      "source": [
        "'''bmi程式\n",
        "1.輸入身高體重\n",
        "2.計算bmi\n",
        "3.給予建議'''\n",
        "height = int(input(\"請輸入身高\"))\n",
        "weight = int(input(\"請輸入體重\"))\n",
        "print(f\"BMI為:\", round(height / (height/weight)**2))"
      ]
    }
  ]
}