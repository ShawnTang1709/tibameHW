{
  "nbformat": 4,
  "nbformat_minor": 0,
  "metadata": {
    "colab": {
      "provenance": [],
      "authorship_tag": "ABX9TyNS/XfgKSt3z6VCDBNuy+/K",
      "include_colab_link": true
    },
    "kernelspec": {
      "name": "python3",
      "display_name": "Python 3"
    },
    "language_info": {
      "name": "python"
    }
  },
  "cells": [
    {
      "cell_type": "markdown",
      "metadata": {
        "id": "view-in-github",
        "colab_type": "text"
      },
      "source": [
        "<a href=\"https://colab.research.google.com/github/ShawnTang1709/tibameHW/blob/main/20241230_loop.ipynb\" target=\"_parent\"><img src=\"https://colab.research.google.com/assets/colab-badge.svg\" alt=\"Open In Colab\"/></a>"
      ]
    },
    {
      "cell_type": "code",
      "execution_count": 1,
      "metadata": {
        "id": "hfQbX4RKQCjB",
        "colab": {
          "base_uri": "https://localhost:8080/"
        },
        "outputId": "6ee38963-d45e-4cf7-b536-8fec8f8c278f"
      },
      "outputs": [
        {
          "output_type": "stream",
          "name": "stdout",
          "text": [
            "         *\n",
            "        **\n",
            "       ***\n",
            "      ****\n",
            "     *****\n",
            "    ******\n",
            "   *******\n",
            "  ********\n",
            " *********\n",
            "**********\n"
          ]
        }
      ],
      "source": [
        "n = 10\n",
        "i = 0\n",
        "first, sec = str(\" \"), str(\"*\")\n",
        "\n",
        "while i < n:\n",
        "  lcount = n - i -1\n",
        "  round = i + 1\n",
        "  line = first * lcount + sec * round\n",
        "  print(line)\n",
        "  i += 1\n"
      ]
    },
    {
      "cell_type": "code",
      "source": [
        "#倒金字塔\n",
        "#n = 層數, mcount = 中間符號, lcount = 左邊符號, rcount = 右邊符號\n",
        "n = int(input(\"請輸入長度:\"))\n",
        "i = 0\n",
        "mcount, lcount, rcount =str(\"中\"), str(\"左\"), str(\"右\")\n",
        "while n >= 0:\n",
        "  line = (lcount * i) + (mcount * n) + (rcount * i)\n",
        "  n -= 2\n",
        "  i += 1\n",
        "  print(line)"
      ],
      "metadata": {
        "colab": {
          "base_uri": "https://localhost:8080/"
        },
        "id": "aKWBa6EYhrE4",
        "outputId": "ce2e9cf1-b9aa-45f1-8629-692c153feb4f"
      },
      "execution_count": 7,
      "outputs": [
        {
          "name": "stdout",
          "output_type": "stream",
          "text": [
            "請輸入長度:13\n"
          ]
        }
      ]
    },
    {
      "cell_type": "code",
      "source": [
        "#倒金字塔\n",
        "#n = 層數, mcount = 中間符號, lcount = 左邊符號, rcount = 右邊符號\n",
        "n = int(input(\"請輸入層數:\"))\n",
        "i = 0\n",
        "msymbol, lsymbol, rsymbol =str(\"中\"), str(\"左\"), str(\"右\")\n",
        "while i < n:\n",
        "  lcount = i\n",
        "  mcount = (n * 2 - 1) - 2 * i\n",
        "  rcount = i\n",
        "  line = (lsymbol * lcount) + (msymbol * mcount) + (rsymbol * rcount)\n",
        "  print(line)\n",
        "  i += 1"
      ],
      "metadata": {
        "id": "Sh_9tLJtlRYI",
        "outputId": "24488da2-a77b-4dd8-8ea0-6cc36895196f",
        "colab": {
          "base_uri": "https://localhost:8080/"
        }
      },
      "execution_count": 8,
      "outputs": [
        {
          "output_type": "stream",
          "name": "stdout",
          "text": [
            "請輸入層數:13\n",
            "中中中中中中中中中中中中中中中中中中中中中中中中中\n",
            "左中中中中中中中中中中中中中中中中中中中中中中中右\n",
            "左左中中中中中中中中中中中中中中中中中中中中中右右\n",
            "左左左中中中中中中中中中中中中中中中中中中中右右右\n",
            "左左左左中中中中中中中中中中中中中中中中中右右右右\n",
            "左左左左左中中中中中中中中中中中中中中中右右右右右\n",
            "左左左左左左中中中中中中中中中中中中中右右右右右右\n",
            "左左左左左左左中中中中中中中中中中中右右右右右右右\n",
            "左左左左左左左左中中中中中中中中中右右右右右右右右\n",
            "左左左左左左左左左中中中中中中中右右右右右右右右右\n",
            "左左左左左左左左左左中中中中中右右右右右右右右右右\n",
            "左左左左左左左左左左左中中中右右右右右右右右右右右\n",
            "左左左左左左左左左左左左中右右右右右右右右右右右右\n"
          ]
        }
      ]
    },
    {
      "cell_type": "code",
      "source": [
        "#倒金字塔\n",
        "#n = 層數, mcount = 中間符號, lcount = 左邊符號, rcount = 右邊符號\n",
        "n = int(input(\"請輸入層數:\"))\n",
        "i = 0\n",
        "lsymbol, rsymbol = str(\"左\"), str(\"右\")\n",
        "msymbol_1 ,msymbol_2 = str(\"中\"), str(\"大\")\n",
        "while i < n:\n",
        "  lcount = i\n",
        "  mcount = (n * 2 - 1) - 2 * i\n",
        "  rcount = i\n",
        "  if i % 2 == 0:\n",
        "    msymbol = msymbol_1\n",
        "  else:\n",
        "    msymbol = msymbol_2\n",
        "  line = (lsymbol * lcount) + (msymbol * mcount) + (rsymbol * rcount)\n",
        "  print(line)\n",
        "  i += 1"
      ],
      "metadata": {
        "id": "IWXPWr1LnKuY",
        "outputId": "1d3a26fd-d474-416b-ff7b-e99376061141",
        "colab": {
          "base_uri": "https://localhost:8080/"
        }
      },
      "execution_count": 12,
      "outputs": [
        {
          "output_type": "stream",
          "name": "stdout",
          "text": [
            "請輸入層數:5\n",
            "中中中中中中中中中\n",
            "左MMMMMMM右\n",
            "左左中中中中中右右\n",
            "左左左MMM右右右\n",
            "左左左左中右右右右\n"
          ]
        }
      ]
    }
  ]
}