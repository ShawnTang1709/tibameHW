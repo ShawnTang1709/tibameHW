{
  "nbformat": 4,
  "nbformat_minor": 0,
  "metadata": {
    "colab": {
      "provenance": [],
      "authorship_tag": "ABX9TyMbyIE1QIJRpgNAQLqe9GyB",
      "include_colab_link": true
    },
    "kernelspec": {
      "name": "python3",
      "display_name": "Python 3"
    },
    "language_info": {
      "name": "python"
    }
  },
  "cells": [
    {
      "cell_type": "markdown",
      "metadata": {
        "id": "view-in-github",
        "colab_type": "text"
      },
      "source": [
        "<a href=\"https://colab.research.google.com/github/ShawnTang1709/tibameHW/blob/main/20241230_loop.ipynb\" target=\"_parent\"><img src=\"https://colab.research.google.com/assets/colab-badge.svg\" alt=\"Open In Colab\"/></a>"
      ]
    },
    {
      "cell_type": "code",
      "execution_count": 1,
      "metadata": {
        "id": "hfQbX4RKQCjB",
        "colab": {
          "base_uri": "https://localhost:8080/"
        },
        "outputId": "6ee38963-d45e-4cf7-b536-8fec8f8c278f"
      },
      "outputs": [
        {
          "output_type": "stream",
          "name": "stdout",
          "text": [
            "         *\n",
            "        **\n",
            "       ***\n",
            "      ****\n",
            "     *****\n",
            "    ******\n",
            "   *******\n",
            "  ********\n",
            " *********\n",
            "**********\n"
          ]
        }
      ],
      "source": [
        "n = 10\n",
        "i = 0\n",
        "first, sec = str(\" \"), str(\"*\")\n",
        "\n",
        "while i < n:\n",
        "  lcount = n - i -1\n",
        "  round = i + 1\n",
        "  line = first * lcount + sec * round\n",
        "  print(line)\n",
        "  i += 1\n"
      ]
    },
    {
      "cell_type": "code",
      "source": [
        "#倒金字塔\n",
        "#n = 層數, mcount = 中間符號, lcount = 左邊符號, rcount = 右邊符號\n",
        "n = 11\n",
        "i = 0\n",
        "mcount, lcount, rcount =str(\"m\"), str(\"x\"), str(\"*\")\n",
        "while n >= 0:\n",
        "  line = (lcount * i) + (mcount * n) + (rcount * i)\n",
        "  n -= 2\n",
        "  i += 1\n",
        "  print(line)"
      ],
      "metadata": {
        "id": "aKWBa6EYhrE4",
        "outputId": "89e5bc47-e569-4475-9e40-df3524f07a2f",
        "colab": {
          "base_uri": "https://localhost:8080/"
        }
      },
      "execution_count": 4,
      "outputs": [
        {
          "output_type": "stream",
          "name": "stdout",
          "text": [
            "mmmmmmmmmmm\n",
            "xmmmmmmmmm*\n",
            "xxmmmmmmm**\n",
            "xxxmmmmm***\n",
            "xxxxmmm****\n",
            "xxxxxm*****\n"
          ]
        }
      ]
    }
  ]
}