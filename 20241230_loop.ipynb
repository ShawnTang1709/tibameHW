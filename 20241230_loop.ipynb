{
  "nbformat": 4,
  "nbformat_minor": 0,
  "metadata": {
    "colab": {
      "provenance": [],
      "authorship_tag": "ABX9TyPJVgFylkxi4sOj2gidxaFc",
      "include_colab_link": true
    },
    "kernelspec": {
      "name": "python3",
      "display_name": "Python 3"
    },
    "language_info": {
      "name": "python"
    }
  },
  "cells": [
    {
      "cell_type": "markdown",
      "metadata": {
        "id": "view-in-github",
        "colab_type": "text"
      },
      "source": [
        "<a href=\"https://colab.research.google.com/github/ShawnTang1709/tibameHW/blob/main/20241230_loop.ipynb\" target=\"_parent\"><img src=\"https://colab.research.google.com/assets/colab-badge.svg\" alt=\"Open In Colab\"/></a>"
      ]
    },
    {
      "cell_type": "code",
      "execution_count": 1,
      "metadata": {
        "id": "hfQbX4RKQCjB",
        "colab": {
          "base_uri": "https://localhost:8080/"
        },
        "outputId": "6ee38963-d45e-4cf7-b536-8fec8f8c278f"
      },
      "outputs": [
        {
          "output_type": "stream",
          "name": "stdout",
          "text": [
            "         *\n",
            "        **\n",
            "       ***\n",
            "      ****\n",
            "     *****\n",
            "    ******\n",
            "   *******\n",
            "  ********\n",
            " *********\n",
            "**********\n"
          ]
        }
      ],
      "source": [
        "n = 10\n",
        "i = 0\n",
        "first, sec = str(\" \"), str(\"*\")\n",
        "\n",
        "while i < n:\n",
        "  lcount = n - i -1\n",
        "  round = i + 1\n",
        "  line = first * lcount + sec * round\n",
        "  print(line)\n",
        "  i += 1\n"
      ]
    },
    {
      "cell_type": "code",
      "source": [
        "#倒金字塔\n",
        "#n = 層數, mcount = 中間符號, lcount = 左邊符號, rcount = 右邊符號\n",
        "n = int(input(\"請輸入長度:\"))\n",
        "i = 0\n",
        "mcount, lcount, rcount =str(\"中\"), str(\"左\"), str(\"右\")\n",
        "while n >= 0:\n",
        "  line = (lcount * i) + (mcount * n) + (rcount * i)\n",
        "  n -= 2\n",
        "  i += 1\n",
        "  print(line)"
      ],
      "metadata": {
        "colab": {
          "base_uri": "https://localhost:8080/"
        },
        "id": "aKWBa6EYhrE4",
        "outputId": "ce2e9cf1-b9aa-45f1-8629-692c153feb4f"
      },
      "execution_count": 7,
      "outputs": [
        {
          "name": "stdout",
          "output_type": "stream",
          "text": [
            "請輸入長度:13\n"
          ]
        }
      ]
    },
    {
      "cell_type": "code",
      "source": [
        "#倒金字塔\n",
        "#n = 層數, mcount = 中間符號, lcount = 左邊符號, rcount = 右邊符號\n",
        "n = int(input(\"請輸入層數:\"))\n",
        "i = 0\n",
        "msymbol, lsymbol, rsymbol =str(\"中\"), str(\"左\"), str(\"右\")\n",
        "while i < n:\n",
        "  lcount = i\n",
        "  mcount = (n * 2 - 1) - 2 * i\n",
        "  rcount = i\n",
        "  line = (lsymbol * lcount) + (msymbol * mcount) + (rsymbol * rcount)\n",
        "  print(line)\n",
        "  i += 1"
      ],
      "metadata": {
        "colab": {
          "base_uri": "https://localhost:8080/"
        },
        "id": "Sh_9tLJtlRYI",
        "outputId": "24488da2-a77b-4dd8-8ea0-6cc36895196f"
      },
      "execution_count": 8,
      "outputs": [
        {
          "output_type": "stream",
          "name": "stdout",
          "text": [
            "請輸入層數:13\n",
            "中中中中中中中中中中中中中中中中中中中中中中中中中\n",
            "左中中中中中中中中中中中中中中中中中中中中中中中右\n",
            "左左中中中中中中中中中中中中中中中中中中中中中右右\n",
            "左左左中中中中中中中中中中中中中中中中中中中右右右\n",
            "左左左左中中中中中中中中中中中中中中中中中右右右右\n",
            "左左左左左中中中中中中中中中中中中中中中右右右右右\n",
            "左左左左左左中中中中中中中中中中中中中右右右右右右\n",
            "左左左左左左左中中中中中中中中中中中右右右右右右右\n",
            "左左左左左左左左中中中中中中中中中右右右右右右右右\n",
            "左左左左左左左左左中中中中中中中右右右右右右右右右\n",
            "左左左左左左左左左左中中中中中右右右右右右右右右右\n",
            "左左左左左左左左左左左中中中右右右右右右右右右右右\n",
            "左左左左左左左左左左左左中右右右右右右右右右右右右\n"
          ]
        }
      ]
    },
    {
      "cell_type": "code",
      "source": [
        "#奇、偶數的倒金字塔\n",
        "symbol = [\"左\",\"偶\",\"奇\",\"右\"]\n",
        "lsymbol = symbol[0]\n",
        "msymbol_1 = symbol[1]\n",
        "msymbol_2 = symbol[2]\n",
        "rsymbol = symbol[3]\n",
        "\n",
        "n = int(input(\"請輸入層數:\"))\n",
        "i = 0\n",
        "# lsymbol, rsymbol = str(\"左\"), str(\"右\")\n",
        "# msymbol_1 ,msymbol_2 = str(\"中\"), str(\"大\")\n",
        "while i < n:\n",
        "  lcount = i\n",
        "  mcount = (n * 2 - 1) - 2 * i\n",
        "  rcount = i\n",
        "  if i % 2 == 0:\n",
        "    msymbol = msymbol_1\n",
        "  else:\n",
        "    msymbol = msymbol_2\n",
        "  line = (lsymbol * lcount) + (msymbol * mcount) + (rsymbol * rcount)\n",
        "  print(line,\"\\u2668\")\n",
        "  i += 1"
      ],
      "metadata": {
        "colab": {
          "base_uri": "https://localhost:8080/"
        },
        "id": "IWXPWr1LnKuY",
        "outputId": "8a25ee84-e911-490b-93b7-c7180e328e64"
      },
      "execution_count": 16,
      "outputs": [
        {
          "output_type": "stream",
          "name": "stdout",
          "text": [
            "請輸入層數:7\n",
            "偶偶偶偶偶偶偶偶偶偶偶偶偶 ♨\n",
            "左奇奇奇奇奇奇奇奇奇奇奇右 ♨\n",
            "左左偶偶偶偶偶偶偶偶偶右右 ♨\n",
            "左左左奇奇奇奇奇奇奇右右右 ♨\n",
            "左左左左偶偶偶偶偶右右右右 ♨\n",
            "左左左左左奇奇奇右右右右右 ♨\n",
            "左左左左左左偶右右右右右右 ♨\n"
          ]
        }
      ]
    },
    {
      "cell_type": "markdown",
      "source": [
        "*記憶體迴圈*"
      ],
      "metadata": {
        "id": "wxw2W6atHIEI"
      }
    },
    {
      "cell_type": "code",
      "source": [
        "total = 0\n",
        "i = 0\n",
        "while i <10:\n",
        "  total = total + (i + 1)\n",
        "  print(total)\n",
        "  i += 1"
      ],
      "metadata": {
        "id": "iIZFuTHjFvZA",
        "outputId": "93894fdb-9c06-4e8e-f71b-ff270a19aac5",
        "colab": {
          "base_uri": "https://localhost:8080/"
        }
      },
      "execution_count": 18,
      "outputs": [
        {
          "output_type": "stream",
          "name": "stdout",
          "text": [
            "1\n",
            "3\n",
            "6\n",
            "10\n",
            "15\n",
            "21\n",
            "28\n",
            "36\n",
            "45\n",
            "55\n"
          ]
        }
      ]
    },
    {
      "cell_type": "code",
      "source": [
        "a, b = 2, 7\n",
        "ans = \"0.\"\n",
        "\n",
        "i = 0\n",
        "while i < 10:\n",
        "  #2 ->20\n",
        "  a10 = a * 10\n",
        "  #20 // 7 -> 0.2\n",
        "  ans = ans + str(a10 // b)\n",
        "  # 20 % 7\n",
        "  a = a10 % b\n",
        "  print(ans)\n",
        "  i += 1"
      ],
      "metadata": {
        "id": "45OyStMgI63w",
        "outputId": "ab24bb61-fbc7-46bd-b83a-101725bce972",
        "colab": {
          "base_uri": "https://localhost:8080/"
        }
      },
      "execution_count": 23,
      "outputs": [
        {
          "output_type": "stream",
          "name": "stdout",
          "text": [
            "0.2\n",
            "0.28\n",
            "0.285\n",
            "0.2857\n",
            "0.28571\n",
            "0.285714\n",
            "0.2857142\n",
            "0.28571428\n",
            "0.285714285\n",
            "0.2857142857\n"
          ]
        }
      ]
    },
    {
      "cell_type": "code",
      "source": [
        "s = \"asdDgaxgFGFSDBG, ... gfijFlPJR25448af\"\n",
        "#分別計算英文大小寫各有幾個\n",
        "ucase, lcase = 0, 0\n",
        "ucase_list = []\n",
        "lcase_list = []\n",
        "i = 0\n",
        "#輪找字串找尋大小寫字母\n",
        "while i < len(s):\n",
        "  n = ord(s[i])\n",
        "  if ord(\"A\") <= n <= ord(\"Z\"):\n",
        "    ucase_list.append(s[i])\n",
        "    ucase += 1\n",
        "\n",
        "  elif ord(\"a\") <= n <= ord(\"z\"):\n",
        "    lcase_list.append(s[i])\n",
        "    lcase += 1\n",
        "  i += 1\n",
        "print(lcase, ucase)\n",
        "print(lcase_list)\n",
        "print(ucase_list)"
      ],
      "metadata": {
        "id": "RRgPHjndMSzn",
        "outputId": "cf54a5da-84d7-4156-bdd2-6327fcebdae8",
        "colab": {
          "base_uri": "https://localhost:8080/"
        }
      },
      "execution_count": 31,
      "outputs": [
        {
          "output_type": "stream",
          "name": "stdout",
          "text": [
            "<built-in method sort of list object at 0x7c7c2b805840>\n"
          ]
        }
      ]
    },
    {
      "cell_type": "code",
      "source": [
        "#計算字母的個別數量\n",
        "s = \"asdDgaxgFGFSDBG, ... gfijFlPJR25448af\"\n",
        "ucases = [0] * 26\n",
        "lcases = [0] * 26\n",
        "i = 0\n",
        "\n",
        "while i < len(s):\n",
        "  n = ord(s[i])\n",
        "  if ord(\"A\") <= n <= ord(\"Z\"):\n",
        "    #轉換字母存成表示字母次數\n",
        "    n -= ord(\"A\")\n",
        "    ucases[n] += 1\n",
        "  elif ord(\"a\") <= n <= ord(\"z\"):\n",
        "    n -= ord(\"a\")\n",
        "    lcases[n] += 1\n",
        "  i += 1\n",
        "\n",
        "print(ucases)\n",
        "print(lcases)\n",
        "\n",
        "#印出26行 ex: A:5 B:2 a:3 B:4\n",
        "j = 0\n",
        "while j < len(ucases):\n",
        "  c1, c2 = chr(j + ord(\"A\")), chr(j + ord(\"a\"))\n",
        "  n1, n2 = ucases[j], lcases[j]\n",
        "  print(c1, \":\", n1, \"/\", c2, \":\", n2)\n",
        "  j += 1\n",
        ""
      ],
      "metadata": {
        "id": "HBjbHhG_Te7P",
        "outputId": "436aeca8-b464-4ae6-aa84-d4ffa4b6d667",
        "colab": {
          "base_uri": "https://localhost:8080/"
        }
      },
      "execution_count": 38,
      "outputs": [
        {
          "output_type": "stream",
          "name": "stdout",
          "text": [
            "[0, 1, 0, 2, 0, 3, 2, 0, 0, 1, 0, 0, 0, 0, 0, 1, 0, 1, 1, 0, 0, 0, 0, 0, 0, 0]\n",
            "[3, 0, 0, 1, 0, 2, 3, 0, 1, 1, 0, 1, 0, 0, 0, 0, 0, 0, 1, 0, 0, 0, 0, 1, 0, 0]\n",
            "A : 0 / a : 3\n",
            "B : 1 / b : 0\n",
            "C : 0 / c : 0\n",
            "D : 2 / d : 1\n",
            "E : 0 / e : 0\n",
            "F : 3 / f : 2\n",
            "G : 2 / g : 3\n",
            "H : 0 / h : 0\n",
            "I : 0 / i : 1\n",
            "J : 1 / j : 1\n",
            "K : 0 / k : 0\n",
            "L : 0 / l : 1\n",
            "M : 0 / m : 0\n",
            "N : 0 / n : 0\n",
            "O : 0 / o : 0\n",
            "P : 1 / p : 0\n",
            "Q : 0 / q : 0\n",
            "R : 1 / r : 0\n",
            "S : 1 / s : 1\n",
            "T : 0 / t : 0\n",
            "U : 0 / u : 0\n",
            "V : 0 / v : 0\n",
            "W : 0 / w : 0\n",
            "X : 0 / x : 1\n",
            "Y : 0 / y : 0\n",
            "Z : 0 / z : 0\n"
          ]
        }
      ]
    },
    {
      "cell_type": "code",
      "source": [],
      "metadata": {
        "id": "Fk8QAKSMRRFP"
      },
      "execution_count": null,
      "outputs": []
    }
  ]
}