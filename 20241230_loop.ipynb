{
  "nbformat": 4,
  "nbformat_minor": 0,
  "metadata": {
    "colab": {
      "provenance": [],
      "authorship_tag": "ABX9TyNWviPiv/w0kXApKlPQE7Of",
      "include_colab_link": true
    },
    "kernelspec": {
      "name": "python3",
      "display_name": "Python 3"
    },
    "language_info": {
      "name": "python"
    }
  },
  "cells": [
    {
      "cell_type": "markdown",
      "metadata": {
        "id": "view-in-github",
        "colab_type": "text"
      },
      "source": [
        "<a href=\"https://colab.research.google.com/github/ShawnTang1709/tibameHW/blob/main/20241230_loop.ipynb\" target=\"_parent\"><img src=\"https://colab.research.google.com/assets/colab-badge.svg\" alt=\"Open In Colab\"/></a>"
      ]
    },
    {
      "cell_type": "code",
      "execution_count": 1,
      "metadata": {
        "id": "hfQbX4RKQCjB",
        "colab": {
          "base_uri": "https://localhost:8080/"
        },
        "outputId": "6ee38963-d45e-4cf7-b536-8fec8f8c278f"
      },
      "outputs": [
        {
          "output_type": "stream",
          "name": "stdout",
          "text": [
            "         *\n",
            "        **\n",
            "       ***\n",
            "      ****\n",
            "     *****\n",
            "    ******\n",
            "   *******\n",
            "  ********\n",
            " *********\n",
            "**********\n"
          ]
        }
      ],
      "source": [
        "n = 10\n",
        "i = 0\n",
        "first, sec = str(\" \"), str(\"*\")\n",
        "\n",
        "while i < n:\n",
        "  lcount = n - i -1\n",
        "  round = i + 1\n",
        "  line = first * lcount + sec * round\n",
        "  print(line)\n",
        "  i += 1\n"
      ]
    }
  ]
}